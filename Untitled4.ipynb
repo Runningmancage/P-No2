{
  "nbformat": 4,
  "nbformat_minor": 0,
  "metadata": {
    "colab": {
      "name": "Untitled4.ipynb",
      "private_outputs": true,
      "provenance": []
    },
    "kernelspec": {
      "name": "python3",
      "display_name": "Python 3"
    },
    "language_info": {
      "name": "python"
    }
  },
  "cells": [
    {
      "cell_type": "code",
      "source": [
        "pip install geopandas"
      ],
      "metadata": {
        "id": "bNjcy1MVT26f"
      },
      "execution_count": null,
      "outputs": []
    },
    {
      "cell_type": "markdown",
      "source": [
        "1. 최초가설 : Co2 배출량은 아시아에서 가장 많이 배출되고 있다.\n",
        "그렇다면 인구 , GDP 등은 Co2 배출과 관련이 있을 것이다. 또한 산업을 함에 있어서 Co2를 배출하는 것은 어쩔 수 없는 일이다. 그렇기 때문에 Co2의 생산량과 소비량의 적절한 값을 찾아야 한다.\n",
        "그러기 위해서 target은 Co2 emission으로 하자"
      ],
      "metadata": {
        "id": "NNKug0IQ6s9e"
      }
    },
    {
      "cell_type": "code",
      "source": [
        "import pandas as pd\n",
        "import numpy as np\n",
        "import matplotlib.pyplot as plt\n",
        "import seaborn as sns\n",
        "from IPython.display import display\n",
        "import folium #지리정보 시각화\n",
        "import geopandas\n",
        "from folium import plugins\n",
        "import plotly.express as px"
      ],
      "metadata": {
        "id": "EHlWRW5dVOD9"
      },
      "execution_count": null,
      "outputs": []
    },
    {
      "cell_type": "code",
      "source": [
        "temperature_anomaly = pd.read_csv('https://raw.githubusercontent.com/Runningmancage/P-No2/main/temperature-anomaly.csv')\n",
        "annual_co_emissions_by_regions = pd.read_csv('https://raw.githubusercontent.com/Runningmancage/P-No2/main/annual-co-emissions-by-region.csv')\n",
        "energy = pd.read_csv('https://raw.githubusercontent.com/Runningmancage/P-No2/main/energy.csv')\n",
        "co2_emissions_and_gdp = pd.read_csv('https://raw.githubusercontent.com/Runningmancage/P-No2/main/co2-emissions-and-gdp.csv')\n",
        "fossil_fuel = pd.read_csv('https://raw.githubusercontent.com/Runningmancage/P-No2/main/fossil-fuel-co2-emissions-by-nation.csv')"
      ],
      "metadata": {
        "id": "mTF50Idz4JEa"
      },
      "execution_count": null,
      "outputs": []
    },
    {
      "cell_type": "code",
      "source": [
        "temperature_copy = temperature_anomaly.copy()\n",
        "annual_copy = annual_co_emissions_by_regions.copy()\n",
        "co2_emissions_copy = co2_emissions_and_gdp.copy()\n",
        "fossil_copy =fossil_fuel.copy()\n",
        "energy_copy =energy.copy()"
      ],
      "metadata": {
        "id": "cwJRjdNLIKRu"
      },
      "execution_count": null,
      "outputs": []
    },
    {
      "cell_type": "code",
      "source": [
        "energy.head()"
      ],
      "metadata": {
        "id": "jSdvzgMg1Exl"
      },
      "execution_count": null,
      "outputs": []
    },
    {
      "cell_type": "code",
      "source": [
        "df_e = energy_copy.drop('Unnamed: 0', axis =1).reset_index(drop=True)"
      ],
      "metadata": {
        "id": "3LI5Hl3f6JCJ"
      },
      "execution_count": null,
      "outputs": []
    },
    {
      "cell_type": "code",
      "source": [
        "df_e.dropna(inplace = True)"
      ],
      "metadata": {
        "id": "enTeaAFD1Kvs"
      },
      "execution_count": null,
      "outputs": []
    },
    {
      "cell_type": "code",
      "source": [
        "df_e['Energy_type'].unique()"
      ],
      "metadata": {
        "id": "vgu0SbXuKYri"
      },
      "execution_count": null,
      "outputs": []
    },
    {
      "cell_type": "code",
      "source": [
        "df_e.info()"
      ],
      "metadata": {
        "id": "0l36O_svKMFy"
      },
      "execution_count": null,
      "outputs": []
    },
    {
      "cell_type": "code",
      "source": [
        "from sklearn.model_selection import train_test_split"
      ],
      "metadata": {
        "id": "dqk4PyOORSpJ"
      },
      "execution_count": null,
      "outputs": []
    },
    {
      "cell_type": "code",
      "source": [
        "df_e=df_e.replace([\"United States\"], [\"United States of America\"])"
      ],
      "metadata": {
        "id": "TpaSCQyd-ORt"
      },
      "execution_count": null,
      "outputs": []
    },
    {
      "cell_type": "code",
      "source": [
        "df_e.info()"
      ],
      "metadata": {
        "id": "9enWM7uVcEBJ"
      },
      "execution_count": null,
      "outputs": []
    },
    {
      "cell_type": "code",
      "source": [
        "world = geopandas.read_file(geopandas.datasets.get_path('naturalearth_lowres'))\n",
        "t = world.merge(df_e, how=\"left\", left_on=['name'], right_on=['Country'])\n",
        "t=t.fillna(0)\n",
        "t['Year'] = t['Year'].astype(int)\n",
        "df_final = t.loc[(t['Year']>1979)].reset_index(drop = True)\n",
        "sorted_df = df_final.sort_values(by = \"Year\", ascending = True)\n",
        "\n",
        "\n",
        "fig = px.scatter(sorted_df, x = \"continent\", y = \"CO2_emission\",\n",
        "                    animation_frame = \"Year\",\n",
        "                    color = \"CO2_emission\", color_continuous_scale = \"jet\")\n",
        "                    \n",
        "\n",
        "fig.update_layout(template = \"plotly_dark\", font = dict(family = \"PT Sans\"))"
      ],
      "metadata": {
        "id": "0Cr0kWoETz-O"
      },
      "execution_count": null,
      "outputs": []
    },
    {
      "cell_type": "code",
      "source": [
        "df_final=df_final.loc[df_final['Year']<2020]"
      ],
      "metadata": {
        "id": "nsRMSXadJ-TM"
      },
      "execution_count": null,
      "outputs": []
    },
    {
      "cell_type": "code",
      "source": [
        "df_final.columns"
      ],
      "metadata": {
        "id": "iWi0JIKwIZym"
      },
      "execution_count": null,
      "outputs": []
    },
    {
      "cell_type": "code",
      "source": [
        "df_final['Total_use'] = df_final[\"Energy_production\"]-df_final['Energy_consumption']"
      ],
      "metadata": {
        "id": "zSXpcmRDvI5C"
      },
      "execution_count": null,
      "outputs": []
    },
    {
      "cell_type": "code",
      "source": [
        "df_final.head()"
      ],
      "metadata": {
        "id": "-2yl8wVFJsmU"
      },
      "execution_count": null,
      "outputs": []
    },
    {
      "cell_type": "code",
      "source": [
        "df_p = df_final.groupby(['Year','continent'])['CO2_emission'].sum().unstack()\n",
        "df_p"
      ],
      "metadata": {
        "id": "RKJ8mrjGFX80"
      },
      "execution_count": null,
      "outputs": []
    },
    {
      "cell_type": "code",
      "source": [
        "df_p.loc['1980-1984', :] = df_p.loc[[1980, 1981, 1982, 1983, 1984]].sum()\n",
        "df_p.loc['1985-1989', :] = df_p.loc[[1985, 1986, 1987, 1988, 1989]].sum()\n",
        "df_p.loc['1990-1994', :] = df_p.loc[[1990, 1991, 1992, 1993, 1994]].sum()\n",
        "df_p.loc['1995-1999', :] = df_p.loc[[1995, 1996, 1997, 1998, 1999]].sum()\n",
        "df_p.loc['2000-2004', :] = df_p.loc[[2000, 2001, 2002, 2003, 2004]].sum()\n",
        "df_p.loc['2005-2009', :] = df_p.loc[[2005, 2006, 2007, 2008, 2009]].sum()\n",
        "df_p.loc['2010-2014', :] = df_p.loc[[2010, 2011, 2012, 2013, 2014]].sum()\n",
        "df_p.loc['2015-2019', :] = df_p.loc[[2015, 2016, 2017, 2018, 2019]].sum()"
      ],
      "metadata": {
        "id": "X4rpVIIPKK7O"
      },
      "execution_count": null,
      "outputs": []
    },
    {
      "cell_type": "code",
      "source": [
        "df_p = df_p.loc[['1980-1984','1985-1989', '1990-1994','1995-1999', '2000-2004','2005-2009', '2010-2014', '2015-2019']]\n",
        "df_p.reset_index()\n",
        "df_p"
      ],
      "metadata": {
        "id": "75adtYa6MkQO"
      },
      "execution_count": null,
      "outputs": []
    },
    {
      "cell_type": "code",
      "source": [
        "plt.figure(figsize=(15, 7))\n",
        "plt.title('CO2 emissions per 5 years', fontsize=15)\n",
        "plt.ylabel('CO2 emissions')\n",
        "sns.lineplot(data=df_p, marker='o', linewidth=3)"
      ],
      "metadata": {
        "id": "_r-cXO_5NNUa"
      },
      "execution_count": null,
      "outputs": []
    },
    {
      "cell_type": "code",
      "source": [
        "df_g = df_final.groupby(['Year','continent'])['GDP'].sum().unstack()\n",
        "df_g"
      ],
      "metadata": {
        "id": "MZx7sDkNPAp4"
      },
      "execution_count": null,
      "outputs": []
    },
    {
      "cell_type": "code",
      "source": [
        "df_g.loc['1980-1984', :] = df_g.loc[[1980, 1981, 1982, 1983, 1984]].sum()\n",
        "df_g.loc['1985-1989', :] = df_g.loc[[1985, 1986, 1987, 1988, 1989]].sum()\n",
        "df_g.loc['1990-1994', :] = df_g.loc[[1990, 1991, 1992, 1993, 1994]].sum()\n",
        "df_g.loc['1995-1999', :] = df_g.loc[[1995, 1996, 1997, 1998, 1999]].sum()\n",
        "df_g.loc['2000-2004', :] = df_g.loc[[2000, 2001, 2002, 2003, 2004]].sum()\n",
        "df_g.loc['2005-2009', :] = df_g.loc[[2005, 2006, 2007, 2008, 2009]].sum()\n",
        "df_g.loc['2010-2014', :] = df_g.loc[[2010, 2011, 2012, 2013, 2014]].sum()\n",
        "df_g.loc['2015-2019', :] = df_g.loc[[2015, 2016, 2017, 2018, 2019]].sum()"
      ],
      "metadata": {
        "id": "et6qB5MGPoUA"
      },
      "execution_count": null,
      "outputs": []
    },
    {
      "cell_type": "code",
      "source": [
        "df_g = df_g.loc[['1980-1984','1985-1989', '1990-1994','1995-1999', '2000-2004','2005-2009', '2010-2014', '2015-2019']]\n",
        "df_g.reset_index()\n",
        "df_g"
      ],
      "metadata": {
        "id": "i3oRzl_SP7Tb"
      },
      "execution_count": null,
      "outputs": []
    },
    {
      "cell_type": "code",
      "source": [
        "plt.figure(figsize=(15, 7))\n",
        "plt.title('GDP per 5 years', fontsize=15)\n",
        "plt.ylabel('GDP')\n",
        "sns.lineplot(data=df_g, marker='o', linewidth=3)"
      ],
      "metadata": {
        "id": "Yo9OsxW3Otl3"
      },
      "execution_count": null,
      "outputs": []
    },
    {
      "cell_type": "code",
      "source": [
        "#Co2 emission/GDP\n",
        "df_pg=df_p/df_g"
      ],
      "metadata": {
        "id": "pnURHgOUQjkj"
      },
      "execution_count": null,
      "outputs": []
    },
    {
      "cell_type": "code",
      "source": [
        "plt.figure(figsize=(15, 7))\n",
        "plt.title('Co2 emission GDP 5 years', fontsize=15)\n",
        "plt.ylabel('Co2 emission per GDP')\n",
        "sns.lineplot(data=df_pg, marker='o', linewidth=3)\n",
        "#2000~2014까지 아시아는 Co2 배출속도가 GDP성장속도보다 빠르다(이때 중국이 세계의 공장이되어서 많은 공장이 중국에 지어짐)\n",
        "#대부분의 대륙에서는 Co2배출속도보다 GDP의 성장속도가 더 빨랐다"
      ],
      "metadata": {
        "id": "93bl9ZbsRGLZ"
      },
      "execution_count": null,
      "outputs": []
    },
    {
      "cell_type": "code",
      "source": [
        "df_h = df_final.groupby(['Year','continent'])['Population'].sum().unstack()\n",
        "df_h"
      ],
      "metadata": {
        "id": "9CAPKAhIv4oC"
      },
      "execution_count": null,
      "outputs": []
    },
    {
      "cell_type": "code",
      "source": [
        "df_h.loc['1980-1984', :] = df_h.loc[[1980, 1981, 1982, 1983, 1984]].sum()\n",
        "df_h.loc['1985-1989', :] = df_h.loc[[1985, 1986, 1987, 1988, 1989]].sum()\n",
        "df_h.loc['1990-1994', :] = df_h.loc[[1990, 1991, 1992, 1993, 1994]].sum()\n",
        "df_h.loc['1995-1999', :] = df_h.loc[[1995, 1996, 1997, 1998, 1999]].sum()\n",
        "df_h.loc['2000-2004', :] = df_h.loc[[2000, 2001, 2002, 2003, 2004]].sum()\n",
        "df_h.loc['2005-2009', :] = df_h.loc[[2005, 2006, 2007, 2008, 2009]].sum()\n",
        "df_h.loc['2010-2014', :] = df_h.loc[[2010, 2011, 2012, 2013, 2014]].sum()\n",
        "df_h.loc['2015-2019', :] = df_h.loc[[2015, 2016, 2017, 2018, 2019]].sum()"
      ],
      "metadata": {
        "id": "TEyd6Ff_3u1P"
      },
      "execution_count": null,
      "outputs": []
    },
    {
      "cell_type": "code",
      "source": [
        "df_h = df_h.loc[['1980-1984','1985-1989', '1990-1994','1995-1999', '2000-2004','2005-2009', '2010-2014', '2015-2019']]\n",
        "df_h.reset_index()\n",
        "df_h"
      ],
      "metadata": {
        "id": "TZOTpb5K4CqT"
      },
      "execution_count": null,
      "outputs": []
    },
    {
      "cell_type": "code",
      "source": [
        "plt.figure(figsize=(15, 7))\n",
        "plt.title('Population 5 years', fontsize=15)\n",
        "plt.ylabel('Population')\n",
        "sns.lineplot(data=df_h, marker='o', linewidth=3)"
      ],
      "metadata": {
        "id": "uTwg20mg4TEv"
      },
      "execution_count": null,
      "outputs": []
    },
    {
      "cell_type": "code",
      "source": [
        "#Co2 emission/Population\n",
        "df_ph=df_p/df_h"
      ],
      "metadata": {
        "id": "TyFxWcy14pcE"
      },
      "execution_count": null,
      "outputs": []
    },
    {
      "cell_type": "code",
      "source": [
        "plt.figure(figsize=(15, 7))\n",
        "plt.title('Co2 emission Population 5 years', fontsize=15)\n",
        "plt.ylabel('Co2 emission per Population')\n",
        "sns.lineplot(data=df_ph, marker='o', linewidth=3)"
      ],
      "metadata": {
        "id": "N6eUajrk4aKx"
      },
      "execution_count": null,
      "outputs": []
    },
    {
      "cell_type": "code",
      "source": [
        "index_ae = df_final[df_final['Energy_type']==\"all_energy_types\"].index\n",
        "index_ae"
      ],
      "metadata": {
        "id": "8tyKAhx2wi7J"
      },
      "execution_count": null,
      "outputs": []
    },
    {
      "cell_type": "code",
      "source": [
        "df_final=df_final.drop(index_ae).reset_index(drop=True)"
      ],
      "metadata": {
        "id": "zl6hqIB3wnHd"
      },
      "execution_count": null,
      "outputs": []
    },
    {
      "cell_type": "code",
      "source": [
        "df_1 = df_final.groupby(['Energy_type','continent'])['Total_use'].sum().unstack()\n",
        "df_1"
      ],
      "metadata": {
        "id": "z6znM0ZavmP1"
      },
      "execution_count": null,
      "outputs": []
    },
    {
      "cell_type": "code",
      "source": [
        "plt.figure(figsize=(15, 7))\n",
        "plt.title('Total_use by type', fontsize=15)\n",
        "plt.ylabel('Total_use')\n",
        "sns.lineplot(data=df_1, marker='o', linewidth=3)"
      ],
      "metadata": {
        "id": "2f6kvrKgwJOE"
      },
      "execution_count": null,
      "outputs": []
    },
    {
      "cell_type": "code",
      "source": [
        "df_2 = df_final.groupby(['Energy_type','continent'])['Energy_production'].sum().unstack()\n",
        "df_3 = df_final.groupby(['Energy_type','continent'])['Energy_consumption'].sum().unstack()"
      ],
      "metadata": {
        "id": "nDUw1A4hw9oG"
      },
      "execution_count": null,
      "outputs": []
    },
    {
      "cell_type": "code",
      "source": [
        "plt.figure(figsize=(15, 7))\n",
        "plt.title('Energy_production by type', fontsize=15)\n",
        "plt.ylabel('Energy_production')\n",
        "sns.lineplot(data=df_2, marker='o', linewidth=3)"
      ],
      "metadata": {
        "id": "vArEwgq9xKqj"
      },
      "execution_count": null,
      "outputs": []
    },
    {
      "cell_type": "code",
      "source": [
        "plt.figure(figsize=(15, 7))\n",
        "plt.title('Energy_consumption by type', fontsize=15)\n",
        "plt.ylabel('Energy_consumption')\n",
        "sns.lineplot(data=df_3, marker='o', linewidth=3)"
      ],
      "metadata": {
        "id": "9P95_yw0x6td"
      },
      "execution_count": null,
      "outputs": []
    },
    {
      "cell_type": "code",
      "source": [
        "df_4 = df_final.groupby(['Energy_type','continent'])['CO2_emission'].sum().unstack()"
      ],
      "metadata": {
        "id": "icP_SUVQydTj"
      },
      "execution_count": null,
      "outputs": []
    },
    {
      "cell_type": "code",
      "source": [
        "plt.figure(figsize=(15, 7))\n",
        "plt.title('CO2_emiision by type', fontsize=15)\n",
        "plt.ylabel('CO2_emiision')\n",
        "sns.lineplot(data=df_4, marker='o', linewidth=3)"
      ],
      "metadata": {
        "id": "uPd962qoylun"
      },
      "execution_count": null,
      "outputs": []
    },
    {
      "cell_type": "markdown",
      "source": [
        "초기에 Co2배출량과 인구수 / GDP와 관련이 있을거라 생각을 했습니다. 결측치가 다른 영향을 주지 않게 하기 위해서 0으로 채우고 1980년대 이후 데이터로 시각화를 하였습니다. 아시아가 Co2 배출량이 많아서 산업화의 영향이라 생각했는데 인구와 GDP 대비로 보면 오세아니아나 북미 등 선진화가 먼저 되어 있는 대륙이 높아서 생각과는 달랐습니다."
      ],
      "metadata": {
        "id": "EbNx51YHCntq"
      }
    },
    {
      "cell_type": "code",
      "source": [
        "df_final = df_final.drop(columns = ['Country','pop_est','iso_a3','gdp_md_est','geometry','name','Year'])"
      ],
      "metadata": {
        "id": "xun9htOCLHMQ"
      },
      "execution_count": null,
      "outputs": []
    },
    {
      "cell_type": "code",
      "source": [
        "df_final.nunique().sort_values(ascending=False)"
      ],
      "metadata": {
        "id": "ogRPDQsrBxtc"
      },
      "execution_count": null,
      "outputs": []
    },
    {
      "cell_type": "code",
      "source": [
        "df_final['Energy_type'].value_counts(normalize=True)"
      ],
      "metadata": {
        "id": "gWGgEdhTDGlp"
      },
      "execution_count": null,
      "outputs": []
    },
    {
      "cell_type": "code",
      "source": [
        "plt.figure(figsize=(13, 6))\n",
        "sns.countplot(x=df_final['Energy_type']);"
      ],
      "metadata": {
        "id": "2Br5j9gmSgEl"
      },
      "execution_count": null,
      "outputs": []
    },
    {
      "cell_type": "code",
      "source": [
        "df_dum = pd.get_dummies(df_final,columns=['Energy_type'])"
      ],
      "metadata": {
        "id": "MIemsFw07jJX"
      },
      "execution_count": null,
      "outputs": []
    },
    {
      "cell_type": "code",
      "source": [
        "df_dum.head()"
      ],
      "metadata": {
        "id": "UvmMsgv6TSPW"
      },
      "execution_count": null,
      "outputs": []
    },
    {
      "cell_type": "code",
      "source": [
        "# 더미 코딩\n",
        "model_dum = LinearRegression()\n",
        "model_dum.fit(df_dum[['Energy_type_coal',\t'Energy_type_natural_gas',\t'Energy_type_nuclear',\t'Energy_type_petroleum_n_other_liquids',\t'Energy_type_renewables_n_other']], df_dum['CO2_emission'])\n",
        "print(\"coefficient: \", model_dum.coef_)\n",
        "print(\"intercept: \", model_dum.intercept_)"
      ],
      "metadata": {
        "id": "k4XrnNJiTMca"
      },
      "execution_count": null,
      "outputs": []
    },
    {
      "cell_type": "code",
      "source": [
        "import plotly.express as px\n",
        "px.scatter(\n",
        "    df_dum,\n",
        "    x='Energy_type_coal',\n",
        "    y='CO2_emission',\n",
        "    trendline='ols'\n",
        ")"
      ],
      "metadata": {
        "id": "3QGgchS4TwTs"
      },
      "execution_count": null,
      "outputs": []
    },
    {
      "cell_type": "code",
      "source": [
        "#df_dum = df_dum.drop(columns = [\"continent\"])"
      ],
      "metadata": {
        "id": "FTnVfGFJ7z7T"
      },
      "execution_count": null,
      "outputs": []
    },
    {
      "cell_type": "code",
      "source": [
        "target = \"CO2_emission\"\n",
        "feature = df_dum.columns.drop(target)\n",
        "target = df_dum[target]"
      ],
      "metadata": {
        "id": "FjrCIf7e71ZX"
      },
      "execution_count": null,
      "outputs": []
    },
    {
      "cell_type": "code",
      "source": [
        "def Div_df(df,feature,target):\n",
        "  global X_train,X_val,X_test,y_train,y_val,y_test\n",
        "  X_train,X_test,y_train,y_test = train_test_split(df[feature],target,train_size = 0.8, test_size=0.2, random_state=2)\n",
        "  X_train,X_val,y_train,y_val = train_test_split(X_train,y_train,train_size = 0.8, test_size=0.2, random_state=2)\n",
        "  print(\"train_data = \",len(X_train))\n",
        "  print(\"val_data = \",len(X_val))\n",
        "  print(\"test_data = \",len(X_test))\n",
        "Div_df(df_dum,feature,target)"
      ],
      "metadata": {
        "id": "XBHyTcEFPv9G"
      },
      "execution_count": null,
      "outputs": []
    },
    {
      "cell_type": "code",
      "source": [
        "#Baseline Model\n",
        "predict = df_dum[\"CO2_emission\"].mean()\n",
        "errors = predict - df_dum[\"CO2_emission\"]\n",
        "mean_absolute_error = errors.abs().mean()\n",
        "print(mean_absolute_error)"
      ],
      "metadata": {
        "id": "TGzHsXN4dUk7"
      },
      "execution_count": null,
      "outputs": []
    },
    {
      "cell_type": "code",
      "source": [
        "##Baseline Model 시각화\n",
        "x = df_final['Energy_type']\n",
        "y = df_final[\"CO2_emission\"]\n",
        "plt.figure(figsize=(15, 7))\n",
        "sns.lineplot(x=x, y=predict, color='red')\n",
        "sns.scatterplot(x=x, y=y, color='blue');"
      ],
      "metadata": {
        "id": "Q44oiQf8dx3J"
      },
      "execution_count": null,
      "outputs": []
    },
    {
      "cell_type": "code",
      "source": [
        "from sklearn.metrics import r2_score\n",
        "\n",
        "for alpha in [0.001, 0.005, 0.01, 0.02, 0.03, 0.1, 1.0, 1, 100.0, 1000.0]:\n",
        "        \n",
        "    print(f'Ridge Regression, alpha={alpha}')\n",
        "\n",
        "    # Ridge 모델 학습\n",
        "    model = Ridge(alpha=alpha, normalize=True)  \n",
        "    model.fit(X_train, y_train)\n",
        "    y_pred = model.predict(X_test)\n",
        "\n",
        "    # r2 for test\n",
        "    \n",
        "    r2 = r2_score(y_test, y_pred)\n",
        "    \n",
        "    \n",
        "    print(f'Test R2: {r2:,.3f}')\n",
        "    \n",
        "    # plot coefficients\n",
        "    coefficients = pd.Series(model.coef_, X_train.columns)\n",
        "    plt.figure(figsize=(10,3))\n",
        "    coefficients.sort_values().plot.barh()\n",
        "    plt.show()"
      ],
      "metadata": {
        "id": "9xnCCrL6bB1K"
      },
      "execution_count": null,
      "outputs": []
    },
    {
      "cell_type": "code",
      "source": [
        "from sklearn.preprocessing import PolynomialFeatures\n",
        "from sklearn.pipeline import make_pipeline\n",
        "\n",
        "def RidgeRegression(degree=3, **kwargs):\n",
        "    return make_pipeline(PolynomialFeatures(degree), \n",
        "                         Ridge(**kwargs))\n",
        "\n",
        "\n",
        "for alpha in [0.001, 0.01, 0.0025, 0.05, 0.09, 0.12, 0.4, 1.0, 1, 5, 10, 100]:\n",
        "        \n",
        "    print(f'Ridge Regression, alpha={alpha}')\n",
        "\n",
        "    # Ridge 모델 학습\n",
        "    model = RidgeRegression(alpha=alpha, normalize=True)\n",
        "    model.fit(X_train, y_train)\n",
        "    y_pred = model.predict(X_test)\n",
        "\n",
        "    \n",
        "    r2 = r2_score(y_test, y_pred)\n",
        "   \n",
        "    print(f'R2 Score: {r2:,.4f}\\n')\n",
        "\n",
        "coefs = model.named_steps[\"ridge\"].coef_\n",
        "print(f'Number of Features: {len(coefs)}')"
      ],
      "metadata": {
        "id": "IGSLDeXxeLPT"
      },
      "execution_count": null,
      "outputs": []
    },
    {
      "cell_type": "code",
      "source": [
        "from sklearn.linear_model import RidgeCV\n",
        "def RidgeCVRegression(degree=3, **kwargs):\n",
        "    return make_pipeline(PolynomialFeatures(degree), \n",
        "                         RidgeCV(**kwargs))\n",
        "\n",
        "# alphas = np.linspace(0.01, 0.5, num=20)\n",
        "alphas = np.arange(0.01, 0.2, 0.01)\n",
        "\n",
        "model = RidgeCVRegression(alphas=alphas, normalize=True, cv=5)\n",
        "model.fit(X_train, y_train)\n",
        "y_pred = model.predict(X_test)\n",
        "\n",
        "\n",
        "r2 = r2_score(y_test, y_pred)\n",
        "\n",
        "print(f'R2 Score: {r2:,.4f}\\n')\n",
        "\n",
        "coefs = model.named_steps[\"ridgecv\"].coef_\n",
        "print(f'Number of Features: {len(coefs)}')\n",
        "\n",
        "print(f'alpha: {model.named_steps[\"ridgecv\"].alpha_}')\n",
        "print(f'cv best score: {model.named_steps[\"ridgecv\"].best_score_}') # best score: R2"
      ],
      "metadata": {
        "id": "ADpSL2PyeUPK"
      },
      "execution_count": null,
      "outputs": []
    },
    {
      "cell_type": "code",
      "source": [
        "X_total = pd.concat([X_train, X_test])\n",
        "y_total = pd.concat([y_train, y_test])"
      ],
      "metadata": {
        "id": "3DisoLcCfOSU"
      },
      "execution_count": null,
      "outputs": []
    },
    {
      "cell_type": "code",
      "source": [
        "model = RidgeCVRegression(alphas=alphas, normalize=True, cv=5)\n",
        "model.fit(X_total, y_total)\n",
        "\n",
        "coefs = model.named_steps[\"ridgecv\"].coef_\n",
        "print(f'Number of Features: {len(coefs)}')\n",
        "\n",
        "print(f'alpha: {model.named_steps[\"ridgecv\"].alpha_}')\n",
        "print(f'cv best score: {model.named_steps[\"ridgecv\"].best_score_}')"
      ],
      "metadata": {
        "id": "1jkrCUEOfP7P"
      },
      "execution_count": null,
      "outputs": []
    },
    {
      "cell_type": "code",
      "source": [
        "coefs.max(), coefs.mean()"
      ],
      "metadata": {
        "id": "WqNQgDfqfTbm"
      },
      "execution_count": null,
      "outputs": []
    },
    {
      "cell_type": "code",
      "source": [
        "coefs.sort()\n",
        "plt.plot(coefs)"
      ],
      "metadata": {
        "id": "OV-UqTJwfV2z"
      },
      "execution_count": null,
      "outputs": []
    },
    {
      "cell_type": "code",
      "source": [
        "!pip install category_encoders"
      ],
      "metadata": {
        "id": "4YbqTxjrHf85"
      },
      "execution_count": null,
      "outputs": []
    },
    {
      "cell_type": "code",
      "source": [
        "from category_encoders import TargetEncoder\n",
        "from category_encoders import OrdinalEncoder\n",
        "from category_encoders import OneHotEncoder\n",
        "from xgboost import XGBRegressor\n",
        "from sklearn import metrics \n",
        "from sklearn.model_selection import GridSearchCV\n",
        "from sklearn.pipeline import make_pipeline\n",
        "from sklearn.impute import SimpleImputer\n",
        "from sklearn.linear_model import LinearRegression,Ridge,Lasso,ElasticNet"
      ],
      "metadata": {
        "id": "mMj_eHwEU4oP"
      },
      "execution_count": null,
      "outputs": []
    },
    {
      "cell_type": "code",
      "source": [
        "pipe = make_pipeline(OrdinalEncoder(), SimpleImputer(),XGBRegressor(booster = 'gbtree',\n",
        "    learning_rate =0.1,\n",
        "    n_estimators=1000,\n",
        "    max_depth=5,\n",
        "    objective= 'reg:linear',\n",
        "    min_child_weight = 1,\n",
        "    seed=27))\n",
        "pipe.fit(X_train,y_train)\n",
        "print('검증 정확도: ', pipe.score(X_val, y_val))"
      ],
      "metadata": {
        "id": "cVfT-33TH9l-"
      },
      "execution_count": null,
      "outputs": []
    },
    {
      "cell_type": "code",
      "source": [
        "from sklearn.pipeline import Pipeline\n",
        "pipe = Pipeline([\n",
        "    ('preprocessing', make_pipeline(OrdinalEncoder(), SimpleImputer())),\n",
        "    ('rf', XGBRegressor(booster = 'gblinear', learning_rate =0.1, n_estimators=1000, max_depth=5, objective= 'reg:linear', min_child_weight=1, seed=27)) \n",
        "])"
      ],
      "metadata": {
        "id": "HB2LSNbx-f9_"
      },
      "execution_count": null,
      "outputs": []
    },
    {
      "cell_type": "code",
      "source": [
        "pipe.named_steps"
      ],
      "metadata": {
        "id": "GzXv0Q_6V58o"
      },
      "execution_count": null,
      "outputs": []
    },
    {
      "cell_type": "code",
      "source": [
        "pipe.fit(X_train, y_train)\n",
        "print('검증 정확도: ', pipe.score(X_val, y_val))"
      ],
      "metadata": {
        "id": "UoHTnYkcV-Wg"
      },
      "execution_count": null,
      "outputs": []
    },
    {
      "cell_type": "code",
      "source": [
        "!pip install eli5"
      ],
      "metadata": {
        "id": "XM3AvUXUWL6_"
      },
      "execution_count": null,
      "outputs": []
    },
    {
      "cell_type": "code",
      "source": [
        "import warnings\n",
        "warnings.simplefilter(action='ignore', category=FutureWarning)\n",
        "\n",
        "import eli5\n",
        "from eli5.sklearn import PermutationImportance\n",
        "\n",
        "# permuter 정의\n",
        "permuter = PermutationImportance(\n",
        "    pipe.named_steps['rf'],\n",
        "    scoring='r2', \n",
        "    n_iter=5, \n",
        "    random_state=2\n",
        ")\n",
        "\n",
        "\n",
        "X_val_transformed = pipe.named_steps['preprocessing'].transform(X_val)\n",
        "\n",
        "\n",
        "permuter.fit(X_val_transformed, y_val);"
      ],
      "metadata": {
        "id": "DYZQ2jzpWGmG"
      },
      "execution_count": null,
      "outputs": []
    },
    {
      "cell_type": "code",
      "source": [
        "feature_names = X_val.columns.tolist()\n",
        "pd.Series(permuter.feature_importances_, feature_names).sort_values()"
      ],
      "metadata": {
        "id": "XYJkF_wZWvZX"
      },
      "execution_count": null,
      "outputs": []
    },
    {
      "cell_type": "code",
      "source": [
        "# 특성별 score 확인\n",
        "eli5.show_weights(\n",
        "    permuter, \n",
        "    top=None, \n",
        "    feature_names=feature_names\n",
        ")"
      ],
      "metadata": {
        "id": "Mflq31XvW3ik"
      },
      "execution_count": null,
      "outputs": []
    },
    {
      "cell_type": "code",
      "source": [
        "minimum_importance = 0\n",
        "mask = permuter.feature_importances_ > minimum_importance\n",
        "#mask = np.array([False, True,  True,  True,  True,  True,  False, False])\n",
        "features = X_train.columns[mask]\n",
        "X_train_selected = X_train[features]\n",
        "X_val_selected = X_val[features]"
      ],
      "metadata": {
        "id": "DHQN7KF8XPxj"
      },
      "execution_count": null,
      "outputs": []
    },
    {
      "cell_type": "code",
      "source": [
        "X_train_selected.head()"
      ],
      "metadata": {
        "id": "oxxn64nmsDFa"
      },
      "execution_count": null,
      "outputs": []
    },
    {
      "cell_type": "code",
      "source": [
        "pipe = Pipeline([('preprocessing', make_pipeline(OneHotEncoder(), SimpleImputer())),('rf', XGBRegressor(booster = 'gblinear', learning_rate =0.1, n_estimators=1000, max_depth=5, objective= 'reg:linear', scale_pos_weight=1, seed=27,n_jobs=-1))],verbose=1)\n",
        "pipe.fit(X_train_selected, y_train);"
      ],
      "metadata": {
        "id": "d5uTFVfmXbxw"
      },
      "execution_count": null,
      "outputs": []
    },
    {
      "cell_type": "code",
      "source": [
        "print('검증 정확도: ', pipe.score(X_val_selected, y_val))"
      ],
      "metadata": {
        "id": "QzMNNeHsX1lx"
      },
      "execution_count": null,
      "outputs": []
    },
    {
      "cell_type": "code",
      "source": [
        "encoder = OrdinalEncoder()\n",
        "X_train_encoded = encoder.fit_transform(X_train_selected)\n",
        "X_val_encoded = encoder.transform(X_val_selected)"
      ],
      "metadata": {
        "id": "UQxuCdi2jigr"
      },
      "execution_count": null,
      "outputs": []
    },
    {
      "cell_type": "markdown",
      "source": [
        "순열중요도를 통해서 특성을 확인하였지만 제가 원하는 것은 인구수 / GDP / 발전원료에 따른 Co2의 변화였기 때문에 기존 피쳐를 가지고 시각화를 진행하였습니다."
      ],
      "metadata": {
        "id": "IQoaR0-OcQ2p"
      }
    },
    {
      "cell_type": "code",
      "source": [
        "#GridSearchCV\n",
        "# XGB\n",
        "xgb = XGBRegressor()\n",
        "param_xgb = { \"booster\": ['gblinear'],\n",
        "              \"learning_rate\": [0.1,0.3],\n",
        "              \"objective\": ['reg:linear'],\n",
        "              \"max_depth\": [5,10,30,50],\n",
        "              \"min_child_weight\" : [1,3,6,10],\n",
        "              \"n_estimators\": [200,300,500,1000]\n",
        "              }    \n",
        "# OLS \n",
        "ols = LinearRegression()                    \n",
        "param_ols = { }\n",
        "# ridge\n",
        "rid = Ridge()      \n",
        "param_rid = {\"alpha\" : [0,0.02,0.4,1],\n",
        "             \"max_iter\" : [1000, 5000, 10000, 15000]\n",
        "              }\n",
        "# lasso\n",
        "las = Lasso()\n",
        "param_las = {\"alpha\" : [0,0.02,0.4,1],\n",
        "             \"max_iter\" : [1000, 5000, 10000, 15000]\n",
        "             }\n",
        "\n",
        "# Logistic\n",
        "ela = ElasticNet()\n",
        "param_ela = {\"alpha\" : [0,0.02,0.4,1],\n",
        "               'l1_ratio': [0,0.3,0.6,1],\n",
        "              'max_iter': [1000, 5000, 10000, 15000]\n",
        "              }"
      ],
      "metadata": {
        "id": "UehRvnnSSvSn"
      },
      "execution_count": null,
      "outputs": []
    },
    {
      "cell_type": "code",
      "source": [
        "# cv = StratifiedKFold(n_splits=5, shuffle = True, random_state=42)\n",
        "gscv_xgb = GridSearchCV (estimator = xgb, param_grid = param_xgb, scoring ='r2', cv = 3, refit=True, n_jobs=1, verbose=2)\n",
        "gscv_ols = GridSearchCV (estimator = ols, param_grid = param_ols, scoring ='r2', cv = 3, refit=True, n_jobs=1, verbose=2)\n",
        "gscv_rid = GridSearchCV (estimator = rid, param_grid = param_rid, scoring ='r2', cv = 3, refit=True, n_jobs=1, verbose=2)\n",
        "gscv_las = GridSearchCV (estimator = las, param_grid = param_las, scoring ='r2', cv = 3, refit=True, n_jobs=1, verbose=2)\n",
        "gscv_ela = GridSearchCV (estimator = ela, param_grid = param_ela, scoring ='r2', cv = 3, refit=True, n_jobs=1, verbose=2)\n",
        "gscv_xgb.fit(X_train_encoded,y_train)\n",
        "gscv_ols.fit(X_train_encoded,y_train)\n",
        "gscv_rid.fit(X_train_encoded,y_train)\n",
        "gscv_las.fit(X_train_encoded,y_train)\n",
        "gscv_ela.fit(X_train_encoded,y_train)"
      ],
      "metadata": {
        "id": "2EjWqi-r5D3o"
      },
      "execution_count": null,
      "outputs": []
    },
    {
      "cell_type": "code",
      "source": [
        "print(\"=\"*30)\n",
        "print('XGB 파라미터: ', gscv_xgb.best_params_)\n",
        "print('XGB 예측 정확도: {:.4f}'.format(gscv_xgb.best_score_))\n",
        "print(\"=\"*30)\n",
        "print('OLS 파라미터: ', gscv_ols.best_params_)\n",
        "print('OLS 예측 정확도: {:.4f}'.format(gscv_ols.best_score_))\n",
        "print(\"=\"*30)\n",
        "print('Ridge 파라미터: ', gscv_rid.best_params_)\n",
        "print('Ridge 예측 정확도: {:.4f}'.format(gscv_rid.best_score_))\n",
        "print(\"=\"*30)\n",
        "print('Lasso 파라미터: ', gscv_las.best_params_)\n",
        "print('Lasso 예측 정확도: {:.4f}'.format(gscv_las.best_score_))\n",
        "print(\"=\"*30)\n",
        "print('ElasticNet 파라미터: ', gscv_ela.best_params_)\n",
        "print('ElasticNet 예측 정확도: {:.4f}'.format(gscv_ela.best_score_))\n",
        "print(\"=\"*30)"
      ],
      "metadata": {
        "id": "d5RU7I0u5JXh"
      },
      "execution_count": null,
      "outputs": []
    },
    {
      "cell_type": "markdown",
      "source": [
        "PDP와 Shap를 이용하여 특성간의 관계를 조금 더 깔끔하게 표현하고자 하였는데 데이터정리하는데 무슨 문제가 있었는지 둘 다 표현이 되지 않는다"
      ],
      "metadata": {
        "id": "R6AM2IT7B5Z-"
      }
    }
  ]
}