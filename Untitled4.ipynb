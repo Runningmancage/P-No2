{
  "nbformat": 4,
  "nbformat_minor": 0,
  "metadata": {
    "colab": {
      "name": "Untitled4.ipynb",
      "private_outputs": true,
      "provenance": []
    },
    "kernelspec": {
      "name": "python3",
      "display_name": "Python 3"
    },
    "language_info": {
      "name": "python"
    }
  },
  "cells": [
    {
      "cell_type": "code",
      "source": [
        "pip install geopandas"
      ],
      "metadata": {
        "id": "bNjcy1MVT26f"
      },
      "execution_count": null,
      "outputs": []
    },
    {
      "cell_type": "markdown",
      "source": [
        "1. 최초가설 : Co2 배출량은 아시아에서 가장 많이 배출되고 있다.\n",
        "그렇다면 인구 , GDP 등은 Co2 배출과 관련이 있을 것이다. 또한 산업을 함에 있어서 Co2를 배출하는 것은 어쩔 수 없는 일이다. 그렇기 때문에 발전소 연료 중 Co2 배출량이 적은 것을 찾아보자\n",
        "그러기 위해서 target은 Co2 emission으로 하자"
      ],
      "metadata": {
        "id": "NNKug0IQ6s9e"
      }
    },
    {
      "cell_type": "code",
      "source": [
        "import pandas as pd\n",
        "import numpy as np\n",
        "import matplotlib.pyplot as plt\n",
        "import seaborn as sns\n",
        "from IPython.display import display\n",
        "import folium #지리정보 시각화\n",
        "import geopandas\n",
        "from folium import plugins\n",
        "import plotly.express as px"
      ],
      "metadata": {
        "id": "EHlWRW5dVOD9"
      },
      "execution_count": null,
      "outputs": []
    },
    {
      "cell_type": "code",
      "source": [
        "temperature_anomaly = pd.read_csv('https://raw.githubusercontent.com/Runningmancage/P-No2/main/temperature-anomaly.csv')\n",
        "annual_co_emissions_by_regions = pd.read_csv('https://raw.githubusercontent.com/Runningmancage/P-No2/main/annual-co-emissions-by-region.csv')\n",
        "energy = pd.read_csv('https://raw.githubusercontent.com/Runningmancage/P-No2/main/energy.csv')\n",
        "co2_emissions_and_gdp = pd.read_csv('https://raw.githubusercontent.com/Runningmancage/P-No2/main/co2-emissions-and-gdp.csv')\n",
        "fossil_fuel = pd.read_csv('https://raw.githubusercontent.com/Runningmancage/P-No2/main/fossil-fuel-co2-emissions-by-nation.csv')"
      ],
      "metadata": {
        "id": "mTF50Idz4JEa"
      },
      "execution_count": null,
      "outputs": []
    },
    {
      "cell_type": "code",
      "source": [
        "temperature_copy = temperature_anomaly.copy()\n",
        "annual_copy = annual_co_emissions_by_regions.copy()\n",
        "co2_emissions_copy = co2_emissions_and_gdp.copy()\n",
        "fossil_copy =fossil_fuel.copy()\n",
        "energy_copy =energy.copy()"
      ],
      "metadata": {
        "id": "cwJRjdNLIKRu"
      },
      "execution_count": null,
      "outputs": []
    },
    {
      "cell_type": "code",
      "source": [
        "energy.head()"
      ],
      "metadata": {
        "id": "jSdvzgMg1Exl"
      },
      "execution_count": null,
      "outputs": []
    },
    {
      "cell_type": "code",
      "source": [
        "df_e = energy_copy.drop('Unnamed: 0', axis =1).reset_index(drop=True)"
      ],
      "metadata": {
        "id": "3LI5Hl3f6JCJ"
      },
      "execution_count": null,
      "outputs": []
    },
    {
      "cell_type": "code",
      "source": [
        "df_e.dropna(inplace = True)"
      ],
      "metadata": {
        "id": "enTeaAFD1Kvs"
      },
      "execution_count": null,
      "outputs": []
    },
    {
      "cell_type": "code",
      "source": [
        "df_e['Energy_type'].unique()"
      ],
      "metadata": {
        "id": "vgu0SbXuKYri"
      },
      "execution_count": null,
      "outputs": []
    },
    {
      "cell_type": "code",
      "source": [
        "df_e.info()"
      ],
      "metadata": {
        "id": "0l36O_svKMFy"
      },
      "execution_count": null,
      "outputs": []
    },
    {
      "cell_type": "code",
      "source": [
        "from sklearn.model_selection import train_test_split"
      ],
      "metadata": {
        "id": "dqk4PyOORSpJ"
      },
      "execution_count": null,
      "outputs": []
    },
    {
      "cell_type": "code",
      "source": [
        "df_e=df_e.replace([\"United States\"], [\"United States of America\"])"
      ],
      "metadata": {
        "id": "TpaSCQyd-ORt"
      },
      "execution_count": null,
      "outputs": []
    },
    {
      "cell_type": "code",
      "source": [
        "df_e.info()"
      ],
      "metadata": {
        "id": "9enWM7uVcEBJ"
      },
      "execution_count": null,
      "outputs": []
    },
    {
      "cell_type": "code",
      "source": [
        "world = geopandas.read_file(geopandas.datasets.get_path('naturalearth_lowres'))\n",
        "t = world.merge(df_e, how=\"left\", left_on=['name'], right_on=['Country'])\n",
        "t=t.fillna(0)\n",
        "t['Year'] = t['Year'].astype(int)\n",
        "df_final = t.loc[(t['Year']>1979)].reset_index(drop = True)\n",
        "sorted_df = df_final.sort_values(by = \"Year\", ascending = True)\n",
        "\n",
        "\n",
        "fig = px.scatter(sorted_df, x = \"continent\", y = \"CO2_emission\",\n",
        "                    animation_frame = \"Year\",\n",
        "                    color = \"CO2_emission\", color_continuous_scale = \"jet\")\n",
        "                    \n",
        "\n",
        "fig.update_layout(template = \"plotly_dark\", font = dict(family = \"PT Sans\"))"
      ],
      "metadata": {
        "id": "0Cr0kWoETz-O"
      },
      "execution_count": null,
      "outputs": []
    },
    {
      "cell_type": "code",
      "source": [
        "df_final=df_final.loc[df_final['Year']<2020]"
      ],
      "metadata": {
        "id": "nsRMSXadJ-TM"
      },
      "execution_count": null,
      "outputs": []
    },
    {
      "cell_type": "code",
      "source": [
        "df_final.columns"
      ],
      "metadata": {
        "id": "iWi0JIKwIZym"
      },
      "execution_count": null,
      "outputs": []
    },
    {
      "cell_type": "code",
      "source": [
        "df_final.head()"
      ],
      "metadata": {
        "id": "-2yl8wVFJsmU"
      },
      "execution_count": null,
      "outputs": []
    },
    {
      "cell_type": "code",
      "source": [
        "df_p = df_final.groupby(['Year','continent'])['CO2_emission'].sum().unstack()\n",
        "df_p"
      ],
      "metadata": {
        "id": "RKJ8mrjGFX80"
      },
      "execution_count": null,
      "outputs": []
    },
    {
      "cell_type": "code",
      "source": [
        "df_p.loc['1980-1984', :] = df_p.loc[[1980, 1981, 1982, 1983, 1984]].sum()\n",
        "df_p.loc['1985-1989', :] = df_p.loc[[1985, 1986, 1987, 1988, 1989]].sum()\n",
        "df_p.loc['1990-1994', :] = df_p.loc[[1990, 1991, 1992, 1993, 1994]].sum()\n",
        "df_p.loc['1995-1999', :] = df_p.loc[[1995, 1996, 1997, 1998, 1999]].sum()\n",
        "df_p.loc['2000-2004', :] = df_p.loc[[2000, 2001, 2002, 2003, 2004]].sum()\n",
        "df_p.loc['2005-2009', :] = df_p.loc[[2005, 2006, 2007, 2008, 2009]].sum()\n",
        "df_p.loc['2010-2014', :] = df_p.loc[[2010, 2011, 2012, 2013, 2014]].sum()\n",
        "df_p.loc['2015-2019', :] = df_p.loc[[2015, 2016, 2017, 2018, 2019]].sum()"
      ],
      "metadata": {
        "id": "X4rpVIIPKK7O"
      },
      "execution_count": null,
      "outputs": []
    },
    {
      "cell_type": "code",
      "source": [
        "df_p = df_p.loc[['1980-1984','1985-1989', '1990-1994','1995-1999', '2000-2004','2005-2009', '2010-2014', '2015-2019']]\n",
        "df_p.reset_index()\n",
        "df_p"
      ],
      "metadata": {
        "id": "75adtYa6MkQO"
      },
      "execution_count": null,
      "outputs": []
    },
    {
      "cell_type": "code",
      "source": [
        "plt.figure(figsize=(15, 7))\n",
        "plt.title('CO2 emissions per 5 years', fontsize=15)\n",
        "plt.ylabel('CO2 emissions')\n",
        "sns.lineplot(data=df_p, marker='o', linewidth=3)"
      ],
      "metadata": {
        "id": "_r-cXO_5NNUa"
      },
      "execution_count": null,
      "outputs": []
    },
    {
      "cell_type": "code",
      "source": [
        "df_g = df_final.groupby(['Year','continent'])['GDP'].sum().unstack()\n",
        "df_g"
      ],
      "metadata": {
        "id": "MZx7sDkNPAp4"
      },
      "execution_count": null,
      "outputs": []
    },
    {
      "cell_type": "code",
      "source": [
        "df_g.loc['1980-1984', :] = df_g.loc[[1980, 1981, 1982, 1983, 1984]].sum()\n",
        "df_g.loc['1985-1989', :] = df_g.loc[[1985, 1986, 1987, 1988, 1989]].sum()\n",
        "df_g.loc['1990-1994', :] = df_g.loc[[1990, 1991, 1992, 1993, 1994]].sum()\n",
        "df_g.loc['1995-1999', :] = df_g.loc[[1995, 1996, 1997, 1998, 1999]].sum()\n",
        "df_g.loc['2000-2004', :] = df_g.loc[[2000, 2001, 2002, 2003, 2004]].sum()\n",
        "df_g.loc['2005-2009', :] = df_g.loc[[2005, 2006, 2007, 2008, 2009]].sum()\n",
        "df_g.loc['2010-2014', :] = df_g.loc[[2010, 2011, 2012, 2013, 2014]].sum()\n",
        "df_g.loc['2015-2019', :] = df_g.loc[[2015, 2016, 2017, 2018, 2019]].sum()"
      ],
      "metadata": {
        "id": "et6qB5MGPoUA"
      },
      "execution_count": null,
      "outputs": []
    },
    {
      "cell_type": "code",
      "source": [
        "df_g = df_g.loc[['1980-1984','1985-1989', '1990-1994','1995-1999', '2000-2004','2005-2009', '2010-2014', '2015-2019']]\n",
        "df_g.reset_index()\n",
        "df_g"
      ],
      "metadata": {
        "id": "i3oRzl_SP7Tb"
      },
      "execution_count": null,
      "outputs": []
    },
    {
      "cell_type": "code",
      "source": [
        "plt.figure(figsize=(15, 7))\n",
        "plt.title('GDP per 5 years', fontsize=15)\n",
        "plt.ylabel('GDP')\n",
        "sns.lineplot(data=df_g, marker='o', linewidth=3)"
      ],
      "metadata": {
        "id": "Yo9OsxW3Otl3"
      },
      "execution_count": null,
      "outputs": []
    },
    {
      "cell_type": "code",
      "source": [
        "#Co2 emission/GDP\n",
        "df_pg=df_p/df_g"
      ],
      "metadata": {
        "id": "pnURHgOUQjkj"
      },
      "execution_count": null,
      "outputs": []
    },
    {
      "cell_type": "code",
      "source": [
        "plt.figure(figsize=(15, 7))\n",
        "plt.title('Co2 emission GDP 5 years', fontsize=15)\n",
        "plt.ylabel('Co2 emission per GDP')\n",
        "sns.lineplot(data=df_pg, marker='o', linewidth=3)\n",
        "#2000~2014까지 아시아는 Co2 배출속도가 GDP성장속도보다 빠르다(이때 중국이 세계의 공장이되어서 많은 공장이 중국에 지어짐)\n",
        "#대부분의 대륙에서는 Co2배출속도보다 GDP의 성장속도가 더 빨랐다"
      ],
      "metadata": {
        "id": "93bl9ZbsRGLZ"
      },
      "execution_count": null,
      "outputs": []
    },
    {
      "cell_type": "code",
      "source": [
        "df_h = df_final.groupby(['Year','continent'])['Population'].sum().unstack()\n",
        "df_h"
      ],
      "metadata": {
        "id": "9CAPKAhIv4oC"
      },
      "execution_count": null,
      "outputs": []
    },
    {
      "cell_type": "code",
      "source": [
        "df_h.loc['1980-1984', :] = df_h.loc[[1980, 1981, 1982, 1983, 1984]].sum()\n",
        "df_h.loc['1985-1989', :] = df_h.loc[[1985, 1986, 1987, 1988, 1989]].sum()\n",
        "df_h.loc['1990-1994', :] = df_h.loc[[1990, 1991, 1992, 1993, 1994]].sum()\n",
        "df_h.loc['1995-1999', :] = df_h.loc[[1995, 1996, 1997, 1998, 1999]].sum()\n",
        "df_h.loc['2000-2004', :] = df_h.loc[[2000, 2001, 2002, 2003, 2004]].sum()\n",
        "df_h.loc['2005-2009', :] = df_h.loc[[2005, 2006, 2007, 2008, 2009]].sum()\n",
        "df_h.loc['2010-2014', :] = df_h.loc[[2010, 2011, 2012, 2013, 2014]].sum()\n",
        "df_h.loc['2015-2019', :] = df_h.loc[[2015, 2016, 2017, 2018, 2019]].sum()"
      ],
      "metadata": {
        "id": "TEyd6Ff_3u1P"
      },
      "execution_count": null,
      "outputs": []
    },
    {
      "cell_type": "code",
      "source": [
        "df_h = df_h.loc[['1980-1984','1985-1989', '1990-1994','1995-1999', '2000-2004','2005-2009', '2010-2014', '2015-2019']]\n",
        "df_h.reset_index()\n",
        "df_h"
      ],
      "metadata": {
        "id": "TZOTpb5K4CqT"
      },
      "execution_count": null,
      "outputs": []
    },
    {
      "cell_type": "code",
      "source": [
        "plt.figure(figsize=(15, 7))\n",
        "plt.title('Population 5 years', fontsize=15)\n",
        "plt.ylabel('Population')\n",
        "sns.lineplot(data=df_h, marker='o', linewidth=3)"
      ],
      "metadata": {
        "id": "uTwg20mg4TEv"
      },
      "execution_count": null,
      "outputs": []
    },
    {
      "cell_type": "code",
      "source": [
        "#Co2 emission/Population\n",
        "df_ph=df_p/df_h"
      ],
      "metadata": {
        "id": "TyFxWcy14pcE"
      },
      "execution_count": null,
      "outputs": []
    },
    {
      "cell_type": "code",
      "source": [
        "plt.figure(figsize=(15, 7))\n",
        "plt.title('Co2 emission Population 5 years', fontsize=15)\n",
        "plt.ylabel('Co2 emission per Population')\n",
        "sns.lineplot(data=df_ph, marker='o', linewidth=3)"
      ],
      "metadata": {
        "id": "N6eUajrk4aKx"
      },
      "execution_count": null,
      "outputs": []
    },
    {
      "cell_type": "markdown",
      "source": [
        "초기에 Co2배출량과 인구수 / GDP와 관련이 있을거라 생각을 했습니다. 결측치가 다른 영향을 주지 않게 하기 위해서 0으로 채우고 원래 데이터가 많았던 1980년대 이후 데이터로 시각화를 하였습니다. 아시아가 Co2 배출량이 많아서 산업화의 영향이라 생각했는데 인구와 GDP 대비로 보면 오세아니아나 북미 등 선진화가 먼저 되어 있는 대륙이 높아서 생각과는 달랐습니다."
      ],
      "metadata": {
        "id": "EbNx51YHCntq"
      }
    },
    {
      "cell_type": "code",
      "source": [
        "df_final = df_final.drop(columns = ['Country','pop_est','iso_a3','gdp_md_est','geometry'])"
      ],
      "metadata": {
        "id": "xun9htOCLHMQ"
      },
      "execution_count": null,
      "outputs": []
    },
    {
      "cell_type": "code",
      "source": [
        "df_final.nunique().sort_values(ascending=False)"
      ],
      "metadata": {
        "id": "ogRPDQsrBxtc"
      },
      "execution_count": null,
      "outputs": []
    },
    {
      "cell_type": "code",
      "source": [
        "df_final['Energy_type'].value_counts(normalize=True)"
      ],
      "metadata": {
        "id": "gWGgEdhTDGlp"
      },
      "execution_count": null,
      "outputs": []
    },
    {
      "cell_type": "code",
      "source": [
        "df_final['Bunker fuels (Not in Total)'].unique()"
      ],
      "metadata": {
        "id": "95HX4IaMHCBg"
      },
      "execution_count": null,
      "outputs": []
    },
    {
      "cell_type": "code",
      "source": [
        "target = \"CO2_emission\"\n",
        "feature = df_final.columns.drop(target)\n",
        "target = df_final[target]"
      ],
      "metadata": {
        "id": "FjrCIf7e71ZX"
      },
      "execution_count": null,
      "outputs": []
    },
    {
      "cell_type": "code",
      "source": [
        "def Div_df(df,feature,target):\n",
        "  global X_train,X_val,X_test,y_train,y_val,y_test\n",
        "  X_train,X_test,y_train,y_test = train_test_split(df[feature],target,train_size = 0.8, test_size=0.2, random_state=2)\n",
        "  X_train,X_val,y_train,y_val = train_test_split(X_train,y_train,train_size = 0.8, test_size=0.2, random_state=2)\n",
        "  print(\"train_data = \",len(X_train))\n",
        "  print(\"val_data = \",len(X_val))\n",
        "  print(\"test_data = \",len(X_test))\n",
        "Div_df(df_final,feature,target)"
      ],
      "metadata": {
        "id": "XBHyTcEFPv9G"
      },
      "execution_count": null,
      "outputs": []
    },
    {
      "cell_type": "code",
      "source": [
        "#Baseline Model\n",
        "predict = df_final[\"CO2_emission\"].mean()\n",
        "errors = predict - df_final[\"CO2_emission\"]\n",
        "mean_absolute_error = errors.abs().mean()"
      ],
      "metadata": {
        "id": "TGzHsXN4dUk7"
      },
      "execution_count": null,
      "outputs": []
    },
    {
      "cell_type": "code",
      "source": [
        "##Baseline Model 시각화\n",
        "x = df_final['Energy_type']\n",
        "y = df_final[\"CO2_emission\"]\n",
        "plt.figure(figsize=(15, 7))\n",
        "sns.lineplot(x=x, y=predict, color='red')\n",
        "sns.scatterplot(x=x, y=y, color='blue');"
      ],
      "metadata": {
        "id": "Q44oiQf8dx3J"
      },
      "execution_count": null,
      "outputs": []
    },
    {
      "cell_type": "code",
      "source": [
        "!pip install category_encoders"
      ],
      "metadata": {
        "id": "4YbqTxjrHf85"
      },
      "execution_count": null,
      "outputs": []
    },
    {
      "cell_type": "code",
      "source": [
        "from category_encoders import TargetEncoder\n",
        "from xgboost import XGBRegressor\n",
        "from sklearn import metrics \n",
        "from sklearn.model_selection import GridSearchCV\n",
        "from sklearn.pipeline import make_pipeline\n",
        "from sklearn.impute import SimpleImputer"
      ],
      "metadata": {
        "id": "mMj_eHwEU4oP"
      },
      "execution_count": null,
      "outputs": []
    },
    {
      "cell_type": "code",
      "source": [
        "pipe = make_pipeline(TargetEncoder(), SimpleImputer(),XGBRegressor(booster = 'gblinear',\n",
        "    learning_rate =0.1,\n",
        "    n_estimators=1000,\n",
        "    max_depth=5,\n",
        "    objective= 'reg:linear',\n",
        "    scale_pos_weight=1,\n",
        "    seed=27))\n",
        "pipe.fit(X_train,y_train)\n",
        "print('검증 정확도: ', pipe.score(X_val, y_val))"
      ],
      "metadata": {
        "id": "cVfT-33TH9l-"
      },
      "execution_count": null,
      "outputs": []
    },
    {
      "cell_type": "code",
      "source": [
        "from sklearn.pipeline import Pipeline\n",
        "pipe = Pipeline([\n",
        "    ('preprocessing', make_pipeline(TargetEncoder(), SimpleImputer())),\n",
        "    ('rf', XGBRegressor(booster = 'gblinear', learning_rate =0.1, n_estimators=1000, max_depth=5, objective= 'reg:linear', scale_pos_weight=1, seed=27)) \n",
        "])"
      ],
      "metadata": {
        "id": "HB2LSNbx-f9_"
      },
      "execution_count": null,
      "outputs": []
    },
    {
      "cell_type": "code",
      "source": [
        "pipe.named_steps"
      ],
      "metadata": {
        "id": "GzXv0Q_6V58o"
      },
      "execution_count": null,
      "outputs": []
    },
    {
      "cell_type": "code",
      "source": [
        "pipe.fit(X_train, y_train)\n",
        "print('검증 정확도: ', pipe.score(X_val, y_val))"
      ],
      "metadata": {
        "id": "UoHTnYkcV-Wg"
      },
      "execution_count": null,
      "outputs": []
    },
    {
      "cell_type": "code",
      "source": [
        "!pip install eli5"
      ],
      "metadata": {
        "id": "XM3AvUXUWL6_"
      },
      "execution_count": null,
      "outputs": []
    },
    {
      "cell_type": "code",
      "source": [
        "import warnings\n",
        "warnings.simplefilter(action='ignore', category=FutureWarning)\n",
        "\n",
        "import eli5\n",
        "from eli5.sklearn import PermutationImportance\n",
        "\n",
        "# permuter 정의\n",
        "permuter = PermutationImportance(\n",
        "    pipe.named_steps['rf'], # model\n",
        "    scoring='r2', # metric\n",
        "    n_iter=5, # 다른 random seed를 사용하여 5번 반복\n",
        "    random_state=2\n",
        ")\n",
        "\n",
        "# permuter 계산은 preprocessing 된 X_val을 사용합니다.\n",
        "X_val_transformed = pipe.named_steps['preprocessing'].transform(X_val)\n",
        "\n",
        "# 실제로 fit 의미보다는 스코어를 다시 계산하는 작업입니다\n",
        "permuter.fit(X_val_transformed, y_val);"
      ],
      "metadata": {
        "id": "DYZQ2jzpWGmG"
      },
      "execution_count": null,
      "outputs": []
    },
    {
      "cell_type": "code",
      "source": [
        "feature_names = X_val.columns.tolist()\n",
        "pd.Series(permuter.feature_importances_, feature_names).sort_values()"
      ],
      "metadata": {
        "id": "XYJkF_wZWvZX"
      },
      "execution_count": null,
      "outputs": []
    },
    {
      "cell_type": "code",
      "source": [
        "# 특성별 score 확인\n",
        "eli5.show_weights(\n",
        "    permuter, \n",
        "    top=None, # top n 지정 가능, None 일 경우 모든 특성 \n",
        "    feature_names=feature_names # list 형식으로 넣어야 합니다\n",
        ")"
      ],
      "metadata": {
        "id": "Mflq31XvW3ik"
      },
      "execution_count": null,
      "outputs": []
    },
    {
      "cell_type": "code",
      "source": [
        "minimum_importance = 0.001\n",
        "mask = permuter.feature_importances_ > minimum_importance\n",
        "features = X_train.columns[mask]\n",
        "X_train_selected = X_train[features]\n",
        "X_val_selected = X_val[features]"
      ],
      "metadata": {
        "id": "DHQN7KF8XPxj"
      },
      "execution_count": null,
      "outputs": []
    },
    {
      "cell_type": "code",
      "source": [
        "X_val.head()"
      ],
      "metadata": {
        "id": "tHAYcu0EYIxF"
      },
      "execution_count": null,
      "outputs": []
    },
    {
      "cell_type": "code",
      "source": [
        "#pipe = Pipeline([('preprocessing', make_pipeline(TargetEncoder(), SimpleImputer())),('rf', XGBRegressor(booster = 'gblinear', learning_rate =0.1, n_estimators=1000, max_depth=5, objective= 'reg:linear', scale_pos_weight=1, seed=27,n_jobs=-1))],verbose=1)\n",
        "#pipe.fit(X_train_selected, y_train);"
      ],
      "metadata": {
        "id": "d5uTFVfmXbxw"
      },
      "execution_count": null,
      "outputs": []
    },
    {
      "cell_type": "code",
      "source": [
        "#print('검증 정확도: ', pipe.score(X_val_selected, y_val))"
      ],
      "metadata": {
        "id": "QzMNNeHsX1lx"
      },
      "execution_count": null,
      "outputs": []
    },
    {
      "cell_type": "markdown",
      "source": [
        "GDP / Population / Energy_type 이렇게 3 columns는 타겟과 좀 더 비교해 보고 싶기도 하고 제거한다고 해서 검증 정확도가 눈에 띄게 달라지는건 아니라서 특성선택은 넘어가겠습니다."
      ],
      "metadata": {
        "id": "IQoaR0-OcQ2p"
      }
    }
  ]
}