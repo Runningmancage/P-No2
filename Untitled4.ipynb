{
  "nbformat": 4,
  "nbformat_minor": 0,
  "metadata": {
    "colab": {
      "name": "Untitled4.ipynb",
      "private_outputs": true,
      "provenance": []
    },
    "kernelspec": {
      "name": "python3",
      "display_name": "Python 3"
    },
    "language_info": {
      "name": "python"
    }
  },
  "cells": [
    {
      "cell_type": "code",
      "source": [
        "pip install geopandas"
      ],
      "metadata": {
        "id": "bNjcy1MVT26f"
      },
      "execution_count": null,
      "outputs": []
    },
    {
      "cell_type": "markdown",
      "source": [
        "1. 최초가설 : Co2 배출량은 아시아에서 가장 많이 배출되고 있다. 산업을 함에 있어서 Co2를 배출하는 것은 어쩔 수 없는 일이다. 그렇기 때문에 발전소 연료 중 Co2 배출량이 적은 것을 찾아보자\n",
        "그러기 위해서 target은 Co2 emission으로 하자"
      ],
      "metadata": {
        "id": "NNKug0IQ6s9e"
      }
    },
    {
      "cell_type": "code",
      "source": [
        "import pandas as pd\n",
        "import numpy as np\n",
        "import matplotlib.pyplot as plt\n",
        "import seaborn as sns\n",
        "from IPython.display import display\n",
        "import folium #지리정보 시각화\n",
        "import geopandas\n",
        "from folium import plugins\n",
        "import plotly.express as px"
      ],
      "metadata": {
        "id": "EHlWRW5dVOD9"
      },
      "execution_count": null,
      "outputs": []
    },
    {
      "cell_type": "code",
      "source": [
        "climate_change = pd.read_csv('https://raw.githubusercontent.com/Runningmancage/P-No2/main/climate-change.csv')\n",
        "temperature_anomaly = pd.read_csv('https://raw.githubusercontent.com/Runningmancage/P-No2/main/temperature-anomaly.csv')\n",
        "annual_co_emissions_by_regions = pd.read_csv('https://raw.githubusercontent.com/Runningmancage/P-No2/main/annual-co-emissions-by-region.csv')\n",
        "energy = pd.read_csv('https://raw.githubusercontent.com/Runningmancage/P-No2/main/energy.csv')\n",
        "co2_emissions_and_gdp = pd.read_csv('https://raw.githubusercontent.com/Runningmancage/P-No2/main/co2-emissions-and-gdp.csv')\n",
        "fossil_fuel = pd.read_csv('https://raw.githubusercontent.com/Runningmancage/P-No2/main/fossil-fuel-co2-emissions-by-nation.csv')"
      ],
      "metadata": {
        "id": "mTF50Idz4JEa"
      },
      "execution_count": null,
      "outputs": []
    },
    {
      "cell_type": "code",
      "source": [
        "climate_copy = climate_change.copy()\n",
        "temperature_copy = temperature_anomaly.copy()\n",
        "annual_copy = annual_co_emissions_by_regions.copy()\n",
        "co2_emissions_copy = co2_emissions_and_gdp.copy()\n",
        "fossil_copy =fossil_fuel.copy()\n",
        "energy_copy =energy.copy()"
      ],
      "metadata": {
        "id": "cwJRjdNLIKRu"
      },
      "execution_count": null,
      "outputs": []
    },
    {
      "cell_type": "code",
      "source": [
        "climate_copy.columns"
      ],
      "metadata": {
        "id": "MVWt58W26CDl"
      },
      "execution_count": null,
      "outputs": []
    },
    {
      "cell_type": "code",
      "source": [
        "df_cli = climate_copy.drop(columns = ['CSIRO', 'IAP', 'MRIJMA', 'NOAA','IAP.1', 'NOAA.1', 'MRIJMA.1','Mass U.S. glaciers']).rename(columns = {'Entity':'Country'})"
      ],
      "metadata": {
        "id": "RD1zbKi7V5-c"
      },
      "execution_count": null,
      "outputs": []
    },
    {
      "cell_type": "code",
      "source": [
        "df_cli.describe()"
      ],
      "metadata": {
        "id": "2DTzUQl1WkyK"
      },
      "execution_count": null,
      "outputs": []
    },
    {
      "cell_type": "code",
      "source": [
        "df_cli.info() # 메탄이나 아산화질소 잘 이용하면 좋을거 같은데 흠....\n",
        "#결측치 많은 메탄/ 아산화질소 / 2월 / 9월 / Snow cover / 북극해 얼음 지우자?"
      ],
      "metadata": {
        "id": "9vLeNcXOZTlW"
      },
      "execution_count": null,
      "outputs": []
    },
    {
      "cell_type": "code",
      "source": [
        "df_cli.drop(columns = ['CH4 concentrations','N2O concentrations', 'February', 'September','Snow cover', 'Arctic sea ice'], inplace = True)"
      ],
      "metadata": {
        "id": "zZ5b1Xr3b9Z1"
      },
      "execution_count": null,
      "outputs": []
    },
    {
      "cell_type": "code",
      "source": [
        "df_cli['Year'].value_counts()"
      ],
      "metadata": {
        "id": "A850-UWDIJh5"
      },
      "execution_count": null,
      "outputs": []
    },
    {
      "cell_type": "code",
      "source": [
        "#df_cli = df_cli.loc[(df_cli['Year']>1979)].reset_index(drop = True)"
      ],
      "metadata": {
        "id": "q7_4_B3vIqfy"
      },
      "execution_count": null,
      "outputs": []
    },
    {
      "cell_type": "code",
      "source": [
        "df_cli['Country'].unique()"
      ],
      "metadata": {
        "id": "UEOghcqMzk6-"
      },
      "execution_count": null,
      "outputs": []
    },
    {
      "cell_type": "code",
      "source": [
        "df_cli.fillna(0)"
      ],
      "metadata": {
        "id": "P58BkXdYxLT5"
      },
      "execution_count": null,
      "outputs": []
    },
    {
      "cell_type": "code",
      "source": [
        "df_cli = df_cli.loc[(df_cli['Year']<2022)].reset_index(drop=True)"
      ],
      "metadata": {
        "id": "S6AtWSiWfpry"
      },
      "execution_count": null,
      "outputs": []
    },
    {
      "cell_type": "code",
      "source": [
        "temperature_anomaly.head() # Median temperature anomaly from 1961-1990 average 961~1990 평균의 중위수 기준"
      ],
      "metadata": {
        "id": "iuMSH-ZiDwX3"
      },
      "execution_count": null,
      "outputs": []
    },
    {
      "cell_type": "code",
      "source": [
        "temperature_copy.drop(columns = ['Code'], inplace = True)"
      ],
      "metadata": {
        "id": "MSAqYxQkxdKA"
      },
      "execution_count": null,
      "outputs": []
    },
    {
      "cell_type": "code",
      "source": [
        "df_t = temperature_copy.rename(columns = {'Entity':'Country'}) #.loc[(temperature_copy['Year']>1979)].reset_index(drop = True)"
      ],
      "metadata": {
        "id": "dJjsPFf-1Kte"
      },
      "execution_count": null,
      "outputs": []
    },
    {
      "cell_type": "code",
      "source": [
        "df_t.info()"
      ],
      "metadata": {
        "id": "1QQNAnCoGkmC"
      },
      "execution_count": null,
      "outputs": []
    },
    {
      "cell_type": "code",
      "source": [
        "energy.head()"
      ],
      "metadata": {
        "id": "jSdvzgMg1Exl"
      },
      "execution_count": null,
      "outputs": []
    },
    {
      "cell_type": "code",
      "source": [
        "df_e = energy_copy.drop('Unnamed: 0', axis =1).reset_index(drop=True)"
      ],
      "metadata": {
        "id": "3LI5Hl3f6JCJ"
      },
      "execution_count": null,
      "outputs": []
    },
    {
      "cell_type": "code",
      "source": [
        "df_e.dropna(inplace = True)"
      ],
      "metadata": {
        "id": "enTeaAFD1Kvs"
      },
      "execution_count": null,
      "outputs": []
    },
    {
      "cell_type": "code",
      "source": [
        "annual_co_emissions_by_regions.head()"
      ],
      "metadata": {
        "id": "bmRWpT5A1eQc"
      },
      "execution_count": null,
      "outputs": []
    },
    {
      "cell_type": "code",
      "source": [
        "df_r = annual_copy.drop(columns = 'Code').rename(columns = {'Entity':'Country'}) #.loc[(annual_copy['Year']>1979)].reset_index(drop = True)"
      ],
      "metadata": {
        "id": "nX5wZLNZXEUe"
      },
      "execution_count": null,
      "outputs": []
    },
    {
      "cell_type": "code",
      "source": [
        "df_r.info()"
      ],
      "metadata": {
        "id": "Zzgp71zldI2n"
      },
      "execution_count": null,
      "outputs": []
    },
    {
      "cell_type": "code",
      "source": [
        "co2_emissions_copy.head(-10)"
      ],
      "metadata": {
        "id": "rsex8ObodXru"
      },
      "execution_count": null,
      "outputs": []
    },
    {
      "cell_type": "code",
      "source": [
        "df_ce = co2_emissions_copy.drop(columns = 'Code').rename(columns = {'Entity':'Country'}) #.loc[(co2_emissions_copy['Year']>1979)].reset_index(drop = True)"
      ],
      "metadata": {
        "id": "1pvg41MvkbwA"
      },
      "execution_count": null,
      "outputs": []
    },
    {
      "cell_type": "code",
      "source": [
        "df_ce.dropna(inplace = True)"
      ],
      "metadata": {
        "id": "WsWE076rklUL"
      },
      "execution_count": null,
      "outputs": []
    },
    {
      "cell_type": "code",
      "source": [
        "fossil_ti = []\n",
        "for i in fossil_copy[\"Country\"]:\n",
        "  fossil_ti.append(i.title())\n",
        "print(fossil_ti)"
      ],
      "metadata": {
        "id": "uLOCEpwwkxST"
      },
      "execution_count": null,
      "outputs": []
    },
    {
      "cell_type": "code",
      "source": [
        "fossil_copy[\"Country\"] = fossil_ti"
      ],
      "metadata": {
        "id": "60jBUTDS2Efx"
      },
      "execution_count": null,
      "outputs": []
    },
    {
      "cell_type": "code",
      "source": [
        "fossil_copy.loc[fossil_copy[\"Country\"]==\"United Kingdom\"]"
      ],
      "metadata": {
        "id": "deO-SVmozL0W"
      },
      "execution_count": null,
      "outputs": []
    },
    {
      "cell_type": "code",
      "source": [
        "fossil_copy.info()"
      ],
      "metadata": {
        "id": "fdJ6paiUg9b7"
      },
      "execution_count": null,
      "outputs": []
    },
    {
      "cell_type": "code",
      "source": [
        "df_cli.head(1)"
      ],
      "metadata": {
        "id": "1IeOH-HrqoH7"
      },
      "execution_count": null,
      "outputs": []
    },
    {
      "cell_type": "code",
      "source": [
        "df_t.head(1)"
      ],
      "metadata": {
        "id": "n1J3h7vzq-iR"
      },
      "execution_count": null,
      "outputs": []
    },
    {
      "cell_type": "code",
      "source": [
        "df_r.head(1)"
      ],
      "metadata": {
        "id": "ozRxMA5xrEks"
      },
      "execution_count": null,
      "outputs": []
    },
    {
      "cell_type": "code",
      "source": [
        "df_ce.head(1)"
      ],
      "metadata": {
        "id": "T0Yipk6HrKlU"
      },
      "execution_count": null,
      "outputs": []
    },
    {
      "cell_type": "code",
      "source": [
        "df_ce.shape"
      ],
      "metadata": {
        "id": "kw08P0vC5f8n"
      },
      "execution_count": null,
      "outputs": []
    },
    {
      "cell_type": "code",
      "source": [
        "fossil_copy.head(-10)"
      ],
      "metadata": {
        "id": "s8y8o2IWrrer"
      },
      "execution_count": null,
      "outputs": []
    },
    {
      "cell_type": "code",
      "source": [
        "fossil_copy.shape"
      ],
      "metadata": {
        "id": "j_AbfcD35id2"
      },
      "execution_count": null,
      "outputs": []
    },
    {
      "cell_type": "code",
      "source": [
        "df_e.head(1)\n",
        "df_e = df_e.drop(columns = ['Energy_intensity_per_capita','Energy_intensity_by_GDP'])"
      ],
      "metadata": {
        "id": "3FXXdZM6rxaJ"
      },
      "execution_count": null,
      "outputs": []
    },
    {
      "cell_type": "code",
      "source": [
        "df_e.shape"
      ],
      "metadata": {
        "id": "LusmSyF15mz2"
      },
      "execution_count": null,
      "outputs": []
    },
    {
      "cell_type": "code",
      "source": [
        "df_n = df_r.merge(df_ce, how = 'outer')\n",
        "df_n.head(1)"
      ],
      "metadata": {
        "id": "_YXwg4GV7Zjv"
      },
      "execution_count": null,
      "outputs": []
    },
    {
      "cell_type": "code",
      "source": [
        "df_1 = df_n.merge(df_e, how = 'outer')\n",
        "df_2 = df_1.merge(fossil_copy, how = 'outer')\n",
        "df_t1 = df_2.merge(df_t, how = 'outer')"
      ],
      "metadata": {
        "id": "x5hjrk4N_K4F"
      },
      "execution_count": null,
      "outputs": []
    },
    {
      "cell_type": "code",
      "source": [
        "df_t1.head(-10)"
      ],
      "metadata": {
        "id": "SHH7_B8EAjEl"
      },
      "execution_count": null,
      "outputs": []
    },
    {
      "cell_type": "code",
      "source": [
        "df_total = df_t1.drop(columns = ['Lower bound (95% CI)','Upper bound (95% CI)'])"
      ],
      "metadata": {
        "id": "emApv28HBt8S"
      },
      "execution_count": null,
      "outputs": []
    },
    {
      "cell_type": "code",
      "source": [
        "df_tf = df_total.loc[(df_total['Year']>1900)].reset_index(drop = True)"
      ],
      "metadata": {
        "id": "ciu65dd0DdhV"
      },
      "execution_count": null,
      "outputs": []
    },
    {
      "cell_type": "code",
      "source": [
        "df_tf.isnull().sum()"
      ],
      "metadata": {
        "id": "MAXBPYJH8aW8"
      },
      "execution_count": null,
      "outputs": []
    },
    {
      "cell_type": "code",
      "source": [
        "df_tf1 = df_tf"
      ],
      "metadata": {
        "id": "3iApHwIh25Qm"
      },
      "execution_count": null,
      "outputs": []
    },
    {
      "cell_type": "code",
      "source": [
        "#df_tf1 = df_tf.fillna(df_tf.mean())"
      ],
      "metadata": {
        "id": "5fptWHeBKAAT"
      },
      "execution_count": null,
      "outputs": []
    },
    {
      "cell_type": "code",
      "source": [
        "#df_tf1 = df_tf1.dropna().reset_index(drop=True)"
      ],
      "metadata": {
        "id": "pwI26lRMKlKm"
      },
      "execution_count": null,
      "outputs": []
    },
    {
      "cell_type": "code",
      "source": [
        "A = df_tf1[df_tf1[\"Country\"].str.contains('&')].index\n",
        "A"
      ],
      "metadata": {
        "id": "VIHRFVjl3YnM"
      },
      "execution_count": null,
      "outputs": []
    },
    {
      "cell_type": "code",
      "source": [
        "df_tf1.reset_index(drop=True,inplace = True)"
      ],
      "metadata": {
        "id": "o-whedhUQ2X4"
      },
      "execution_count": null,
      "outputs": []
    },
    {
      "cell_type": "code",
      "source": [
        "from sklearn.model_selection import train_test_split"
      ],
      "metadata": {
        "id": "dqk4PyOORSpJ"
      },
      "execution_count": null,
      "outputs": []
    },
    {
      "cell_type": "code",
      "source": [
        "df_tf1.head()"
      ],
      "metadata": {
        "id": "sh67oTmzZ64L"
      },
      "execution_count": null,
      "outputs": []
    },
    {
      "cell_type": "code",
      "source": [
        "df_tf1=df_tf1.replace([\"United States\"], [\"United States of America\"])"
      ],
      "metadata": {
        "id": "TpaSCQyd-ORt"
      },
      "execution_count": null,
      "outputs": []
    },
    {
      "cell_type": "code",
      "source": [
        "df_tf1.info()"
      ],
      "metadata": {
        "id": "9enWM7uVcEBJ"
      },
      "execution_count": null,
      "outputs": []
    },
    {
      "cell_type": "code",
      "source": [
        "world = geopandas.read_file(geopandas.datasets.get_path('naturalearth_lowres'))\n",
        "t = world.merge(df_tf1, how=\"left\", left_on=['name'], right_on=['Country'])\n",
        "t=t.fillna(0)\n",
        "t['Year'] = t['Year'].astype(int)\n",
        "df_final = t.loc[(t['Year']>1900)].reset_index(drop = True)\n",
        "sorted_df = df_final.sort_values(by = \"Year\", ascending = True)\n",
        "\n",
        "\n",
        "fig = px.scatter(sorted_df, x = \"continent\", y = \"Annual CO2 emissions (zero filled)\",\n",
        "                    animation_frame = \"Year\",\n",
        "                    color = \"Annual CO2 emissions (zero filled)\", color_continuous_scale = \"jet\")\n",
        "                    \n",
        "\n",
        "fig.update_layout(template = \"plotly_dark\", font = dict(family = \"PT Sans\"))"
      ],
      "metadata": {
        "id": "0Cr0kWoETz-O"
      },
      "execution_count": null,
      "outputs": []
    },
    {
      "cell_type": "code",
      "source": [
        "df_final=df_final.loc[df_final['Year']<2020]"
      ],
      "metadata": {
        "id": "nsRMSXadJ-TM"
      },
      "execution_count": null,
      "outputs": []
    },
    {
      "cell_type": "code",
      "source": [
        "df_final.columns"
      ],
      "metadata": {
        "id": "iWi0JIKwIZym"
      },
      "execution_count": null,
      "outputs": []
    },
    {
      "cell_type": "code",
      "source": [
        "df_final.head()"
      ],
      "metadata": {
        "id": "-2yl8wVFJsmU"
      },
      "execution_count": null,
      "outputs": []
    },
    {
      "cell_type": "code",
      "source": [
        "df_p = df_final.groupby(['Year','continent'])['CO2_emission'].sum().unstack()\n",
        "df_p"
      ],
      "metadata": {
        "id": "RKJ8mrjGFX80"
      },
      "execution_count": null,
      "outputs": []
    },
    {
      "cell_type": "code",
      "source": [
        "df_p.loc['1980-1984', :] = df_p.loc[[1980, 1981, 1982, 1983, 1984]].sum()\n",
        "df_p.loc['1985-1989', :] = df_p.loc[[1985, 1986, 1987, 1988, 1989]].sum()\n",
        "df_p.loc['1990-1994', :] = df_p.loc[[1990, 1991, 1992, 1993, 1994]].sum()\n",
        "df_p.loc['1995-1999', :] = df_p.loc[[1995, 1996, 1997, 1998, 1999]].sum()\n",
        "df_p.loc['2000-2004', :] = df_p.loc[[2000, 2001, 2002, 2003, 2004]].sum()\n",
        "df_p.loc['2005-2009', :] = df_p.loc[[2005, 2006, 2007, 2008, 2009]].sum()\n",
        "df_p.loc['2010-2014', :] = df_p.loc[[2010, 2011, 2012, 2013, 2014]].sum()\n",
        "df_p.loc['2015-2019', :] = df_p.loc[[2015, 2016, 2017, 2018, 2019]].sum()"
      ],
      "metadata": {
        "id": "X4rpVIIPKK7O"
      },
      "execution_count": null,
      "outputs": []
    },
    {
      "cell_type": "code",
      "source": [
        "df_p = df_p.loc[['1980-1984','1985-1989', '1990-1994','1995-1999', '2000-2004','2005-2009', '2010-2014', '2015-2019']]\n",
        "df_p.reset_index()\n",
        "df_p"
      ],
      "metadata": {
        "id": "75adtYa6MkQO"
      },
      "execution_count": null,
      "outputs": []
    },
    {
      "cell_type": "code",
      "source": [
        "plt.figure(figsize=(15, 7))\n",
        "plt.title('CO2 emissions per 5 years', fontsize=15)\n",
        "plt.ylabel('CO2 emissions')\n",
        "sns.lineplot(data=df_p, marker='o', linewidth=3)"
      ],
      "metadata": {
        "id": "_r-cXO_5NNUa"
      },
      "execution_count": null,
      "outputs": []
    },
    {
      "cell_type": "code",
      "source": [
        "df_g = df_final.groupby(['Year','continent'])['GDP'].sum().unstack()\n",
        "df_g"
      ],
      "metadata": {
        "id": "MZx7sDkNPAp4"
      },
      "execution_count": null,
      "outputs": []
    },
    {
      "cell_type": "code",
      "source": [
        "df_g.loc['1980-1984', :] = df_g.loc[[1980, 1981, 1982, 1983, 1984]].sum()\n",
        "df_g.loc['1985-1989', :] = df_g.loc[[1985, 1986, 1987, 1988, 1989]].sum()\n",
        "df_g.loc['1990-1994', :] = df_g.loc[[1990, 1991, 1992, 1993, 1994]].sum()\n",
        "df_g.loc['1995-1999', :] = df_g.loc[[1995, 1996, 1997, 1998, 1999]].sum()\n",
        "df_g.loc['2000-2004', :] = df_g.loc[[2000, 2001, 2002, 2003, 2004]].sum()\n",
        "df_g.loc['2005-2009', :] = df_g.loc[[2005, 2006, 2007, 2008, 2009]].sum()\n",
        "df_g.loc['2010-2014', :] = df_g.loc[[2010, 2011, 2012, 2013, 2014]].sum()\n",
        "df_g.loc['2015-2019', :] = df_g.loc[[2015, 2016, 2017, 2018, 2019]].sum()"
      ],
      "metadata": {
        "id": "et6qB5MGPoUA"
      },
      "execution_count": null,
      "outputs": []
    },
    {
      "cell_type": "code",
      "source": [
        "df_g = df_g.loc[['1980-1984','1985-1989', '1990-1994','1995-1999', '2000-2004','2005-2009', '2010-2014', '2015-2019']]\n",
        "df_g.reset_index()\n",
        "df_g"
      ],
      "metadata": {
        "id": "i3oRzl_SP7Tb"
      },
      "execution_count": null,
      "outputs": []
    },
    {
      "cell_type": "code",
      "source": [
        "plt.figure(figsize=(15, 7))\n",
        "plt.title('GDP per 5 years', fontsize=15)\n",
        "plt.ylabel('GDP')\n",
        "sns.lineplot(data=df_g, marker='o', linewidth=3)"
      ],
      "metadata": {
        "id": "Yo9OsxW3Otl3"
      },
      "execution_count": null,
      "outputs": []
    },
    {
      "cell_type": "code",
      "source": [
        "#Co2 emission/GDP\n",
        "df_pg=df_p/df_g"
      ],
      "metadata": {
        "id": "pnURHgOUQjkj"
      },
      "execution_count": null,
      "outputs": []
    },
    {
      "cell_type": "code",
      "source": [
        "plt.figure(figsize=(15, 7))\n",
        "plt.title('Co2 emission GDP 5 years', fontsize=15)\n",
        "plt.ylabel('Co2 emission per GDP')\n",
        "sns.lineplot(data=df_pg, marker='o', linewidth=3)\n",
        "#2000~2014까지 아시아는 Co2 배출속도가 GDP성장속도보다 빠르다(이때 중국이 세계의 공장이되어서 많은 공장이 중국에 지어짐)\n",
        "#대부분의 대륙에서는 Co2배출속도보다 GDP의 성장속도가 더 빨랐다"
      ],
      "metadata": {
        "id": "93bl9ZbsRGLZ"
      },
      "execution_count": null,
      "outputs": []
    },
    {
      "cell_type": "code",
      "source": [
        "df_h = df_final.groupby(['Year','continent'])['Population'].sum().unstack()\n",
        "df_h"
      ],
      "metadata": {
        "id": "9CAPKAhIv4oC"
      },
      "execution_count": null,
      "outputs": []
    },
    {
      "cell_type": "code",
      "source": [
        "df_h.loc['1980-1984', :] = df_h.loc[[1980, 1981, 1982, 1983, 1984]].sum()\n",
        "df_h.loc['1985-1989', :] = df_h.loc[[1985, 1986, 1987, 1988, 1989]].sum()\n",
        "df_h.loc['1990-1994', :] = df_h.loc[[1990, 1991, 1992, 1993, 1994]].sum()\n",
        "df_h.loc['1995-1999', :] = df_h.loc[[1995, 1996, 1997, 1998, 1999]].sum()\n",
        "df_h.loc['2000-2004', :] = df_h.loc[[2000, 2001, 2002, 2003, 2004]].sum()\n",
        "df_h.loc['2005-2009', :] = df_h.loc[[2005, 2006, 2007, 2008, 2009]].sum()\n",
        "df_h.loc['2010-2014', :] = df_h.loc[[2010, 2011, 2012, 2013, 2014]].sum()\n",
        "df_h.loc['2015-2019', :] = df_h.loc[[2015, 2016, 2017, 2018, 2019]].sum()"
      ],
      "metadata": {
        "id": "TEyd6Ff_3u1P"
      },
      "execution_count": null,
      "outputs": []
    },
    {
      "cell_type": "code",
      "source": [
        "df_h = df_h.loc[['1980-1984','1985-1989', '1990-1994','1995-1999', '2000-2004','2005-2009', '2010-2014', '2015-2019']]\n",
        "df_h.reset_index()\n",
        "df_h"
      ],
      "metadata": {
        "id": "TZOTpb5K4CqT"
      },
      "execution_count": null,
      "outputs": []
    },
    {
      "cell_type": "code",
      "source": [
        "plt.figure(figsize=(15, 7))\n",
        "plt.title('Population 5 years', fontsize=15)\n",
        "plt.ylabel('Population')\n",
        "sns.lineplot(data=df_h, marker='o', linewidth=3)"
      ],
      "metadata": {
        "id": "uTwg20mg4TEv"
      },
      "execution_count": null,
      "outputs": []
    },
    {
      "cell_type": "code",
      "source": [
        "#Co2 emission/Population\n",
        "df_ph=df_p/df_h"
      ],
      "metadata": {
        "id": "TyFxWcy14pcE"
      },
      "execution_count": null,
      "outputs": []
    },
    {
      "cell_type": "code",
      "source": [
        "plt.figure(figsize=(15, 7))\n",
        "plt.title('Co2 emission Population 5 years', fontsize=15)\n",
        "plt.ylabel('Co2 emission per Population')\n",
        "sns.lineplot(data=df_ph, marker='o', linewidth=3)"
      ],
      "metadata": {
        "id": "N6eUajrk4aKx"
      },
      "execution_count": null,
      "outputs": []
    },
    {
      "cell_type": "code",
      "source": [
        "df_final = df_final.drop(columns = ['Country','GDP, PPP (constant 2017 international $)','pop_est','iso_a3','gdp_md_est','Median temperature anomaly from 1961-1990 average','Annual CO2 emissions (zero filled)','Annual CO2 emissions'])"
      ],
      "metadata": {
        "id": "xun9htOCLHMQ"
      },
      "execution_count": null,
      "outputs": []
    },
    {
      "cell_type": "code",
      "source": [
        "!pip install category_encoders"
      ],
      "metadata": {
        "id": "LTeUu_QTNonj"
      },
      "execution_count": null,
      "outputs": []
    },
    {
      "cell_type": "code",
      "source": [
        "df_final.nunique().sort_values(ascending=False)"
      ],
      "metadata": {
        "id": "ogRPDQsrBxtc"
      },
      "execution_count": null,
      "outputs": []
    },
    {
      "cell_type": "code",
      "source": [
        "df_final['Energy_type'].value_counts(normalize=True)"
      ],
      "metadata": {
        "id": "gWGgEdhTDGlp"
      },
      "execution_count": null,
      "outputs": []
    },
    {
      "cell_type": "code",
      "source": [
        "df_final['Bunker fuels (Not in Total)']"
      ],
      "metadata": {
        "id": "95HX4IaMHCBg"
      },
      "execution_count": null,
      "outputs": []
    },
    {
      "cell_type": "code",
      "source": [
        "target = \"CO2_emission\"\n",
        "feature = df_final.columns.drop(target)\n",
        "target = df_final[target]"
      ],
      "metadata": {
        "id": "FjrCIf7e71ZX"
      },
      "execution_count": null,
      "outputs": []
    },
    {
      "cell_type": "code",
      "source": [
        "df_final.info()"
      ],
      "metadata": {
        "id": "Nia4LmB7R_3s"
      },
      "execution_count": null,
      "outputs": []
    },
    {
      "cell_type": "code",
      "source": [
        "def Div_df(df,feature,target):\n",
        "  global X_train,X_val,X_test,y_train,y_val,y_test\n",
        "  X_train,X_test,y_train,y_test = train_test_split(df[feature],target,train_size = 0.8, test_size=0.2, random_state=2)\n",
        "  X_train,X_val,y_train,y_val = train_test_split(X_train,y_train,train_size = 0.8, test_size=0.2, random_state=2)\n",
        "  print(\"train_data = \",len(X_train))\n",
        "  print(\"val_data = \",len(X_val))\n",
        "  print(\"test_data = \",len(X_test))\n",
        "Div_df(df_final,feature,target)"
      ],
      "metadata": {
        "id": "XBHyTcEFPv9G"
      },
      "execution_count": null,
      "outputs": []
    },
    {
      "cell_type": "code",
      "source": [
        "from category_encoders import OrdinalEncoder\n",
        "\n",
        "encoder = OrdinalEncoder()\n",
        "X_train_encoded = encoder.fit_transform(X_train)\n",
        "X_val_encoded = encoder.transform(X_val)"
      ],
      "metadata": {
        "id": "yoU1N9UfUA1I"
      },
      "execution_count": null,
      "outputs": []
    },
    {
      "cell_type": "code",
      "source": [
        "from xgboost import XGBRegressor"
      ],
      "metadata": {
        "id": "mMj_eHwEU4oP"
      },
      "execution_count": null,
      "outputs": []
    }
  ]
}