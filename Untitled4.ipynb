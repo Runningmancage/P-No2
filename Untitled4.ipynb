{
  "nbformat": 4,
  "nbformat_minor": 0,
  "metadata": {
    "colab": {
      "name": "Untitled4.ipynb",
      "private_outputs": true,
      "provenance": []
    },
    "kernelspec": {
      "name": "python3",
      "display_name": "Python 3"
    },
    "language_info": {
      "name": "python"
    }
  },
  "cells": [
    {
      "cell_type": "code",
      "source": [
        "pip install geopandas"
      ],
      "metadata": {
        "id": "bNjcy1MVT26f"
      },
      "execution_count": null,
      "outputs": []
    },
    {
      "cell_type": "code",
      "source": [
        "import pandas as pd\n",
        "import numpy as np\n",
        "import matplotlib.pyplot as plt\n",
        "import seaborn as sns\n",
        "from IPython.display import display\n",
        "import folium #지리정보 시각화\n",
        "import geopandas\n",
        "from folium import plugins\n",
        "import plotly.express as px"
      ],
      "metadata": {
        "id": "EHlWRW5dVOD9"
      },
      "execution_count": null,
      "outputs": []
    },
    {
      "cell_type": "code",
      "source": [
        "climate_change = pd.read_csv('https://raw.githubusercontent.com/Runningmancage/P-No2/main/climate-change.csv')\n",
        "temperature_anomaly = pd.read_csv('https://raw.githubusercontent.com/Runningmancage/P-No2/main/temperature-anomaly.csv')\n",
        "annual_co_emissions_by_regions = pd.read_csv('https://raw.githubusercontent.com/Runningmancage/P-No2/main/annual-co-emissions-by-region.csv')\n",
        "energy = pd.read_csv('https://raw.githubusercontent.com/Runningmancage/P-No2/main/energy.csv')\n",
        "co2_emissions_and_gdp = pd.read_csv('https://raw.githubusercontent.com/Runningmancage/P-No2/main/co2-emissions-and-gdp.csv')\n",
        "fossil_fuel = pd.read_csv('https://raw.githubusercontent.com/Runningmancage/P-No2/main/fossil-fuel-co2-emissions-by-nation.csv')"
      ],
      "metadata": {
        "id": "mTF50Idz4JEa"
      },
      "execution_count": null,
      "outputs": []
    },
    {
      "cell_type": "code",
      "source": [
        "climate_copy = climate_change.copy()\n",
        "temperature_copy = temperature_anomaly.copy()\n",
        "annual_copy = annual_co_emissions_by_regions.copy()\n",
        "energy_copy =energy.copy()\n",
        "co2_emissions_copy = co2_emissions_and_gdp.copy()\n",
        "fossil_copy =fossil_fuel.copy()"
      ],
      "metadata": {
        "id": "cwJRjdNLIKRu"
      },
      "execution_count": null,
      "outputs": []
    },
    {
      "cell_type": "code",
      "source": [
        "climate_copy.columns"
      ],
      "metadata": {
        "id": "MVWt58W26CDl"
      },
      "execution_count": null,
      "outputs": []
    },
    {
      "cell_type": "code",
      "source": [
        "df_cli = climate_copy.drop(columns = ['CSIRO', 'IAP', 'MRIJMA', 'NOAA','IAP.1', 'NOAA.1', 'MRIJMA.1','Mass U.S. glaciers']).rename(columns = {'Entity':'Country'})"
      ],
      "metadata": {
        "id": "RD1zbKi7V5-c"
      },
      "execution_count": null,
      "outputs": []
    },
    {
      "cell_type": "code",
      "source": [
        "df_cli.describe()"
      ],
      "metadata": {
        "id": "2DTzUQl1WkyK"
      },
      "execution_count": null,
      "outputs": []
    },
    {
      "cell_type": "code",
      "source": [
        "df_cli.info() # 메탄이나 아산화질소 잘 이용하면 좋을거 같은데 흠....\n",
        "#결측치 많은 메탄/ 아산화질소 / 2월 / 9월 / Snow cover / 북극해 얼음 지우자?"
      ],
      "metadata": {
        "id": "9vLeNcXOZTlW"
      },
      "execution_count": null,
      "outputs": []
    },
    {
      "cell_type": "code",
      "source": [
        "df_cli.groupby('Country')['Snow cover'].sum()"
      ],
      "metadata": {
        "id": "31XcIG-iZhrf"
      },
      "execution_count": null,
      "outputs": []
    },
    {
      "cell_type": "code",
      "source": [
        "df_cli[df_cli['Country']=='North America'] # Snow cover 컬럼 속 데이터는 모두 북미임 사용 못 할 듯"
      ],
      "metadata": {
        "id": "nZli1hOYacF0"
      },
      "execution_count": null,
      "outputs": []
    },
    {
      "cell_type": "code",
      "source": [
        "df_cli.drop(columns = ['CH4 concentrations','N2O concentrations', 'February', 'September','Snow cover', 'Arctic sea ice'], inplace = True)"
      ],
      "metadata": {
        "id": "zZ5b1Xr3b9Z1"
      },
      "execution_count": null,
      "outputs": []
    },
    {
      "cell_type": "code",
      "source": [
        "df_cli[df_cli['Country']=='World']"
      ],
      "metadata": {
        "id": "pzkRaOcrcht0"
      },
      "execution_count": null,
      "outputs": []
    },
    {
      "cell_type": "code",
      "source": [
        "df_cli['Year'].value_counts()"
      ],
      "metadata": {
        "id": "A850-UWDIJh5"
      },
      "execution_count": null,
      "outputs": []
    },
    {
      "cell_type": "code",
      "source": [
        "df_cli = df_cli.loc[(df_cli['Year']>1900)].reset_index(drop = True)"
      ],
      "metadata": {
        "id": "q7_4_B3vIqfy"
      },
      "execution_count": null,
      "outputs": []
    },
    {
      "cell_type": "code",
      "source": [
        "df_cli.value_counts()"
      ],
      "metadata": {
        "id": "IaumjtYGKhIx"
      },
      "execution_count": null,
      "outputs": []
    },
    {
      "cell_type": "code",
      "source": [
        "energy.head()"
      ],
      "metadata": {
        "id": "xqR62PWmDmx2"
      },
      "execution_count": null,
      "outputs": []
    },
    {
      "cell_type": "code",
      "source": [
        "df_e = energy_copy.drop('Unnamed: 0', axis =1).reset_index(drop=True)"
      ],
      "metadata": {
        "id": "7RDD-B_mdBt_"
      },
      "execution_count": null,
      "outputs": []
    },
    {
      "cell_type": "code",
      "source": [
        "df_e.head(13)"
      ],
      "metadata": {
        "id": "bSryv_XGdOAp"
      },
      "execution_count": null,
      "outputs": []
    },
    {
      "cell_type": "code",
      "source": [
        "annual_co_emissions_by_regions.head()"
      ],
      "metadata": {
        "id": "8etc739FD3AD"
      },
      "execution_count": null,
      "outputs": []
    },
    {
      "cell_type": "code",
      "source": [
        "temperature_anomaly.head()"
      ],
      "metadata": {
        "id": "iuMSH-ZiDwX3"
      },
      "execution_count": null,
      "outputs": []
    },
    {
      "cell_type": "code",
      "source": [
        "temperature_anomaly.head(-10)"
      ],
      "metadata": {
        "id": "1QQNAnCoGkmC"
      },
      "execution_count": null,
      "outputs": []
    },
    {
      "cell_type": "code",
      "source": [
        "preview()"
      ],
      "metadata": {
        "id": "3LI5Hl3f6JCJ"
      },
      "execution_count": null,
      "outputs": []
    }
  ]
}