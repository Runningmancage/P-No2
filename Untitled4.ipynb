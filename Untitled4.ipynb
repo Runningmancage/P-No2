{
  "nbformat": 4,
  "nbformat_minor": 0,
  "metadata": {
    "colab": {
      "name": "Untitled4.ipynb",
      "private_outputs": true,
      "provenance": []
    },
    "kernelspec": {
      "name": "python3",
      "display_name": "Python 3"
    },
    "language_info": {
      "name": "python"
    }
  },
  "cells": [
    {
      "cell_type": "code",
      "source": [
        "pip install geopandas"
      ],
      "metadata": {
        "id": "bNjcy1MVT26f"
      },
      "execution_count": null,
      "outputs": []
    },
    {
      "cell_type": "code",
      "source": [
        "import pandas as pd\n",
        "import numpy as np\n",
        "import matplotlib.pyplot as plt\n",
        "import seaborn as sns\n",
        "from IPython.display import display\n",
        "import folium #지리정보 시각화\n",
        "import geopandas\n",
        "from folium import plugins\n",
        "import plotly.express as px"
      ],
      "metadata": {
        "id": "EHlWRW5dVOD9"
      },
      "execution_count": null,
      "outputs": []
    },
    {
      "cell_type": "code",
      "source": [
        "climate_change = pd.read_csv('https://raw.githubusercontent.com/Runningmancage/P-No2/main/climate-change.csv')\n",
        "temperature_anomaly = pd.read_csv('https://raw.githubusercontent.com/Runningmancage/P-No2/main/temperature-anomaly.csv')\n",
        "annual_co_emissions_by_regions = pd.read_csv('https://raw.githubusercontent.com/Runningmancage/P-No2/main/annual-co-emissions-by-region.csv')\n",
        "energy = pd.read_csv('https://raw.githubusercontent.com/Runningmancage/P-No2/main/energy.csv')\n",
        "co2_emissions_and_gdp = pd.read_csv('https://raw.githubusercontent.com/Runningmancage/P-No2/main/co2-emissions-and-gdp.csv')\n",
        "fossil_fuel = pd.read_csv('https://raw.githubusercontent.com/Runningmancage/P-No2/main/fossil-fuel-co2-emissions-by-nation.csv')"
      ],
      "metadata": {
        "id": "mTF50Idz4JEa"
      },
      "execution_count": null,
      "outputs": []
    },
    {
      "cell_type": "code",
      "source": [
        "climate_copy = climate_change.copy()\n",
        "temperature_copy = temperature_anomaly.copy()\n",
        "annual_copy = annual_co_emissions_by_regions.copy()\n",
        "co2_emissions_copy = co2_emissions_and_gdp.copy()\n",
        "fossil_copy =fossil_fuel.copy()\n",
        "energy_copy =energy.copy()"
      ],
      "metadata": {
        "id": "cwJRjdNLIKRu"
      },
      "execution_count": null,
      "outputs": []
    },
    {
      "cell_type": "code",
      "source": [
        "climate_copy.columns"
      ],
      "metadata": {
        "id": "MVWt58W26CDl"
      },
      "execution_count": null,
      "outputs": []
    },
    {
      "cell_type": "code",
      "source": [
        "df_cli = climate_copy.drop(columns = ['CSIRO', 'IAP', 'MRIJMA', 'NOAA','IAP.1', 'NOAA.1', 'MRIJMA.1','Mass U.S. glaciers']).rename(columns = {'Entity':'Country'})"
      ],
      "metadata": {
        "id": "RD1zbKi7V5-c"
      },
      "execution_count": null,
      "outputs": []
    },
    {
      "cell_type": "code",
      "source": [
        "df_cli.describe()"
      ],
      "metadata": {
        "id": "2DTzUQl1WkyK"
      },
      "execution_count": null,
      "outputs": []
    },
    {
      "cell_type": "code",
      "source": [
        "df_cli.info() # 메탄이나 아산화질소 잘 이용하면 좋을거 같은데 흠....\n",
        "#결측치 많은 메탄/ 아산화질소 / 2월 / 9월 / Snow cover / 북극해 얼음 지우자?"
      ],
      "metadata": {
        "id": "9vLeNcXOZTlW"
      },
      "execution_count": null,
      "outputs": []
    },
    {
      "cell_type": "code",
      "source": [
        "df_cli.drop(columns = ['CH4 concentrations','N2O concentrations', 'February', 'September','Snow cover', 'Arctic sea ice'], inplace = True)"
      ],
      "metadata": {
        "id": "zZ5b1Xr3b9Z1"
      },
      "execution_count": null,
      "outputs": []
    },
    {
      "cell_type": "code",
      "source": [
        "df_cli['Year'].value_counts()"
      ],
      "metadata": {
        "id": "A850-UWDIJh5"
      },
      "execution_count": null,
      "outputs": []
    },
    {
      "cell_type": "code",
      "source": [
        "#df_cli = df_cli.loc[(df_cli['Year']>1979)].reset_index(drop = True)"
      ],
      "metadata": {
        "id": "q7_4_B3vIqfy"
      },
      "execution_count": null,
      "outputs": []
    },
    {
      "cell_type": "code",
      "source": [
        "df_cli['Country'].unique()"
      ],
      "metadata": {
        "id": "UEOghcqMzk6-"
      },
      "execution_count": null,
      "outputs": []
    },
    {
      "cell_type": "code",
      "source": [
        "df_cli.fillna(df_cli.mean())"
      ],
      "metadata": {
        "id": "P58BkXdYxLT5"
      },
      "execution_count": null,
      "outputs": []
    },
    {
      "cell_type": "code",
      "source": [
        "df_cli = df_cli.loc[(df_cli['Year']<2022)].reset_index(drop=True)"
      ],
      "metadata": {
        "id": "S6AtWSiWfpry"
      },
      "execution_count": null,
      "outputs": []
    },
    {
      "cell_type": "code",
      "source": [
        "temperature_anomaly.head() # Median temperature anomaly from 1961-1990 average 961~1990 평균의 중위수 기준"
      ],
      "metadata": {
        "id": "iuMSH-ZiDwX3"
      },
      "execution_count": null,
      "outputs": []
    },
    {
      "cell_type": "code",
      "source": [
        "temperature_copy.drop(columns = ['Code'], inplace = True)"
      ],
      "metadata": {
        "id": "MSAqYxQkxdKA"
      },
      "execution_count": null,
      "outputs": []
    },
    {
      "cell_type": "code",
      "source": [
        "df_t = temperature_copy.rename(columns = {'Entity':'Country'}) #.loc[(temperature_copy['Year']>1979)].reset_index(drop = True)"
      ],
      "metadata": {
        "id": "dJjsPFf-1Kte"
      },
      "execution_count": null,
      "outputs": []
    },
    {
      "cell_type": "code",
      "source": [
        "df_t.info()"
      ],
      "metadata": {
        "id": "1QQNAnCoGkmC"
      },
      "execution_count": null,
      "outputs": []
    },
    {
      "cell_type": "code",
      "source": [
        "energy.head()"
      ],
      "metadata": {
        "id": "jSdvzgMg1Exl"
      },
      "execution_count": null,
      "outputs": []
    },
    {
      "cell_type": "code",
      "source": [
        "df_e = energy_copy.drop('Unnamed: 0', axis =1).reset_index(drop=True)"
      ],
      "metadata": {
        "id": "3LI5Hl3f6JCJ"
      },
      "execution_count": null,
      "outputs": []
    },
    {
      "cell_type": "code",
      "source": [
        "df_e.dropna(inplace = True)"
      ],
      "metadata": {
        "id": "enTeaAFD1Kvs"
      },
      "execution_count": null,
      "outputs": []
    },
    {
      "cell_type": "code",
      "source": [
        "annual_co_emissions_by_regions.head()"
      ],
      "metadata": {
        "id": "bmRWpT5A1eQc"
      },
      "execution_count": null,
      "outputs": []
    },
    {
      "cell_type": "code",
      "source": [
        "df_r = annual_copy.drop(columns = 'Code').rename(columns = {'Entity':'Country'}) #.loc[(annual_copy['Year']>1979)].reset_index(drop = True)"
      ],
      "metadata": {
        "id": "nX5wZLNZXEUe"
      },
      "execution_count": null,
      "outputs": []
    },
    {
      "cell_type": "code",
      "source": [
        "df_r.info()"
      ],
      "metadata": {
        "id": "Zzgp71zldI2n"
      },
      "execution_count": null,
      "outputs": []
    },
    {
      "cell_type": "code",
      "source": [
        "co2_emissions_copy.head(-10)"
      ],
      "metadata": {
        "id": "rsex8ObodXru"
      },
      "execution_count": null,
      "outputs": []
    },
    {
      "cell_type": "code",
      "source": [
        "df_ce = co2_emissions_copy.drop(columns = 'Code').rename(columns = {'Entity':'Country'}) #.loc[(co2_emissions_copy['Year']>1979)].reset_index(drop = True)"
      ],
      "metadata": {
        "id": "1pvg41MvkbwA"
      },
      "execution_count": null,
      "outputs": []
    },
    {
      "cell_type": "code",
      "source": [
        "df_ce.dropna(inplace = True)"
      ],
      "metadata": {
        "id": "WsWE076rklUL"
      },
      "execution_count": null,
      "outputs": []
    },
    {
      "cell_type": "code",
      "source": [
        "fossil_ti = []\n",
        "for i in fossil_copy[\"Country\"]:\n",
        "  fossil_ti.append(i.title())\n",
        "print(fossil_ti)"
      ],
      "metadata": {
        "id": "uLOCEpwwkxST"
      },
      "execution_count": null,
      "outputs": []
    },
    {
      "cell_type": "code",
      "source": [
        "fossil_copy[\"Country\"] = fossil_ti"
      ],
      "metadata": {
        "id": "60jBUTDS2Efx"
      },
      "execution_count": null,
      "outputs": []
    },
    {
      "cell_type": "code",
      "source": [
        "fossil_copy.loc[fossil_copy[\"Country\"]==\"United Kingdom\"]"
      ],
      "metadata": {
        "id": "deO-SVmozL0W"
      },
      "execution_count": null,
      "outputs": []
    },
    {
      "cell_type": "code",
      "source": [
        "fossil_copy.info()"
      ],
      "metadata": {
        "id": "fdJ6paiUg9b7"
      },
      "execution_count": null,
      "outputs": []
    },
    {
      "cell_type": "code",
      "source": [
        "df_cli.head(1)"
      ],
      "metadata": {
        "id": "1IeOH-HrqoH7"
      },
      "execution_count": null,
      "outputs": []
    },
    {
      "cell_type": "code",
      "source": [
        "df_t.head(1)"
      ],
      "metadata": {
        "id": "n1J3h7vzq-iR"
      },
      "execution_count": null,
      "outputs": []
    },
    {
      "cell_type": "code",
      "source": [
        "df_r.head(1)"
      ],
      "metadata": {
        "id": "ozRxMA5xrEks"
      },
      "execution_count": null,
      "outputs": []
    },
    {
      "cell_type": "code",
      "source": [
        "df_ce.head(1)"
      ],
      "metadata": {
        "id": "T0Yipk6HrKlU"
      },
      "execution_count": null,
      "outputs": []
    },
    {
      "cell_type": "code",
      "source": [
        "df_ce.shape"
      ],
      "metadata": {
        "id": "kw08P0vC5f8n"
      },
      "execution_count": null,
      "outputs": []
    },
    {
      "cell_type": "code",
      "source": [
        "fossil_copy.head(-10)"
      ],
      "metadata": {
        "id": "s8y8o2IWrrer"
      },
      "execution_count": null,
      "outputs": []
    },
    {
      "cell_type": "code",
      "source": [
        "fossil_copy.shape"
      ],
      "metadata": {
        "id": "j_AbfcD35id2"
      },
      "execution_count": null,
      "outputs": []
    },
    {
      "cell_type": "code",
      "source": [
        "df_e.head(1)\n",
        "df_e = df_e.drop(columns = ['Energy_intensity_per_capita','Energy_intensity_by_GDP'])"
      ],
      "metadata": {
        "id": "3FXXdZM6rxaJ"
      },
      "execution_count": null,
      "outputs": []
    },
    {
      "cell_type": "code",
      "source": [
        "df_e.shape"
      ],
      "metadata": {
        "id": "LusmSyF15mz2"
      },
      "execution_count": null,
      "outputs": []
    },
    {
      "cell_type": "code",
      "source": [
        "df_n = df_r.merge(df_ce, how = 'outer')\n",
        "df_n.head(1)"
      ],
      "metadata": {
        "id": "_YXwg4GV7Zjv"
      },
      "execution_count": null,
      "outputs": []
    },
    {
      "cell_type": "code",
      "source": [
        "df_1 = df_n.merge(df_e, how = 'outer')\n",
        "df_2 = df_1.merge(fossil_copy, how = 'outer')\n",
        "df_3 = df_2.merge(df_t, how = 'outer')\n",
        "df_t1 = df_3.merge(df_cli, how = 'outer')"
      ],
      "metadata": {
        "id": "x5hjrk4N_K4F"
      },
      "execution_count": null,
      "outputs": []
    },
    {
      "cell_type": "code",
      "source": [
        "df_t1.head(-10)"
      ],
      "metadata": {
        "id": "SHH7_B8EAjEl"
      },
      "execution_count": null,
      "outputs": []
    },
    {
      "cell_type": "code",
      "source": [
        "df_total = df_t1.drop(columns = ['Sea surface temp (lower-bound)','Sea surface temp (upper-bound)','Lower bound (95% CI)','Upper bound (95% CI)'])"
      ],
      "metadata": {
        "id": "emApv28HBt8S"
      },
      "execution_count": null,
      "outputs": []
    },
    {
      "cell_type": "code",
      "source": [
        "df_tf = df_total.loc[(df_total['Year']>1900)].reset_index(drop = True)"
      ],
      "metadata": {
        "id": "ciu65dd0DdhV"
      },
      "execution_count": null,
      "outputs": []
    },
    {
      "cell_type": "code",
      "source": [
        "df_tf.isnull().sum()"
      ],
      "metadata": {
        "id": "MAXBPYJH8aW8"
      },
      "execution_count": null,
      "outputs": []
    },
    {
      "cell_type": "code",
      "source": [
        "df_tf1 = df_tf"
      ],
      "metadata": {
        "id": "3iApHwIh25Qm"
      },
      "execution_count": null,
      "outputs": []
    },
    {
      "cell_type": "code",
      "source": [
        "#df_tf1 = df_tf.fillna(df_tf.mean())"
      ],
      "metadata": {
        "id": "5fptWHeBKAAT"
      },
      "execution_count": null,
      "outputs": []
    },
    {
      "cell_type": "code",
      "source": [
        "#df_tf1 = df_tf1.dropna().reset_index(drop=True)"
      ],
      "metadata": {
        "id": "pwI26lRMKlKm"
      },
      "execution_count": null,
      "outputs": []
    },
    {
      "cell_type": "code",
      "source": [
        "A = df_tf1[df_tf1[\"Country\"].str.contains('&')].index\n",
        "A"
      ],
      "metadata": {
        "id": "VIHRFVjl3YnM"
      },
      "execution_count": null,
      "outputs": []
    },
    {
      "cell_type": "code",
      "source": [
        "df_tf1.reset_index(drop=True,inplace = True)"
      ],
      "metadata": {
        "id": "o-whedhUQ2X4"
      },
      "execution_count": null,
      "outputs": []
    },
    {
      "cell_type": "code",
      "source": [
        "from sklearn.model_selection import train_test_split"
      ],
      "metadata": {
        "id": "dqk4PyOORSpJ"
      },
      "execution_count": null,
      "outputs": []
    },
    {
      "cell_type": "code",
      "source": [
        "df_tf1.head()"
      ],
      "metadata": {
        "id": "sh67oTmzZ64L"
      },
      "execution_count": null,
      "outputs": []
    },
    {
      "cell_type": "code",
      "source": [
        "df_tf1=df_tf1.replace([\"United States\"], [\"United States of America\"])"
      ],
      "metadata": {
        "id": "TpaSCQyd-ORt"
      },
      "execution_count": null,
      "outputs": []
    },
    {
      "cell_type": "code",
      "source": [
        "df_tf1.info()"
      ],
      "metadata": {
        "id": "9enWM7uVcEBJ"
      },
      "execution_count": null,
      "outputs": []
    },
    {
      "cell_type": "code",
      "source": [
        "world = geopandas.read_file(geopandas.datasets.get_path('naturalearth_lowres'))\n",
        "t = world.merge(df_tf1, how=\"left\", left_on=['name'], right_on=['Country'])\n",
        "t=t.fillna(0)\n",
        "t['Year'] = t['Year'].astype(int)\n",
        "df_final = t.loc[(t['Year']>1900)].reset_index(drop = True)\n",
        "sorted_df = df_final.sort_values(by = \"Year\", ascending = True)\n",
        "\n",
        "\n",
        "fig = px.bar(sorted_df, x = \"continent\", y = \"Annual CO2 emissions (zero filled)\",\n",
        "                    animation_frame = \"Year\",\n",
        "                    color = \"Annual CO2 emissions (zero filled)\", color_continuous_scale = \"jet\")\n",
        "                    \n",
        "\n",
        "fig.update_layout(template = \"plotly_dark\", font = dict(family = \"PT Sans\"))"
      ],
      "metadata": {
        "id": "0Cr0kWoETz-O"
      },
      "execution_count": null,
      "outputs": []
    },
    {
      "cell_type": "code",
      "source": [
        "df_final=df_final.loc[df_final['Year']<2020]"
      ],
      "metadata": {
        "id": "nsRMSXadJ-TM"
      },
      "execution_count": null,
      "outputs": []
    },
    {
      "cell_type": "code",
      "source": [
        "df_p = df_final.groupby(['Year','continent'])['Annual CO2 emissions'].sum().unstack()\n",
        "df_p"
      ],
      "metadata": {
        "id": "RKJ8mrjGFX80"
      },
      "execution_count": null,
      "outputs": []
    },
    {
      "cell_type": "code",
      "source": [
        "df_p.loc['1980-1984', :] = df_p.loc[[1980, 1981, 1982, 1983, 1984]].sum()\n",
        "df_p.loc['1985-1989', :] = df_p.loc[[1985, 1986, 1987, 1988, 1989]].sum()\n",
        "df_p.loc['1990-1994', :] = df_p.loc[[1990, 1991, 1992, 1993, 1994]].sum()\n",
        "df_p.loc['1995-1999', :] = df_p.loc[[1995, 1996, 1997, 1998, 1999]].sum()\n",
        "df_p.loc['2000-2004', :] = df_p.loc[[2000, 2001, 2002, 2003, 2004]].sum()\n",
        "df_p.loc['2005-2009', :] = df_p.loc[[2005, 2006, 2007, 2008, 2009]].sum()\n",
        "df_p.loc['2010-2014', :] = df_p.loc[[2010, 2011, 2012, 2013, 2014]].sum()\n",
        "df_p.loc['2015-2019', :] = df_p.loc[[2015, 2016, 2017, 2018, 2019]].sum()"
      ],
      "metadata": {
        "id": "X4rpVIIPKK7O"
      },
      "execution_count": null,
      "outputs": []
    },
    {
      "cell_type": "code",
      "source": [
        "df_p = df_p.loc[['1980-1984','1985-1989', '1990-1994','1995-1999', '2000-2004','2005-2009', '2010-2014', '2015-2019']]\n",
        "df_p.reset_index()\n",
        "df_p"
      ],
      "metadata": {
        "id": "75adtYa6MkQO"
      },
      "execution_count": null,
      "outputs": []
    },
    {
      "cell_type": "code",
      "source": [
        "plt.figure(figsize=(15, 7))\n",
        "plt.title('CO2 emissions per 5 years', fontsize=15)\n",
        "plt.ylabel('CO2 emissions')\n",
        "sns.lineplot(data=df_p, marker='o', linewidth=3)"
      ],
      "metadata": {
        "id": "_r-cXO_5NNUa"
      },
      "execution_count": null,
      "outputs": []
    }
  ]
}